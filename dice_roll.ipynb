{
  "nbformat": 4,
  "nbformat_minor": 0,
  "metadata": {
    "colab": {
      "provenance": [],
      "authorship_tag": "ABX9TyNxm3KZZDwRrVM/t/QlJpdh"
    },
    "kernelspec": {
      "name": "python3",
      "display_name": "Python 3"
    },
    "language_info": {
      "name": "python"
    }
  },
  "cells": [
    {
      "cell_type": "code",
      "execution_count": 5,
      "metadata": {
        "colab": {
          "base_uri": "https://localhost:8080/"
        },
        "id": "rYsGpzwQHfBv",
        "outputId": "cbc39ac1-1ce4-45c1-8bc3-3fd1770099ed"
      },
      "outputs": [
        {
          "output_type": "stream",
          "name": "stdout",
          "text": [
            "\t┌─────────┐\n",
            " \t│  ●   ●  │\n",
            " \t│    ●    │\n",
            " \t│  ●   ●  │\n",
            " \t└─────────┘\n",
            "\n"
          ]
        }
      ],
      "source": [
        "import random\n",
        "\n",
        "dice_val = random.randint(1,6)\n",
        "\n",
        "dice_roll(dice_val)"
      ]
    },
    {
      "cell_type": "code",
      "source": [
        "def dice_roll(val):\n",
        "    if val == 1:\n",
        "        print(\"\\t┌─────────┐\\n\",\n",
        "              \"\\t│         │\\n\",\n",
        "              \"\\t│    ●    │\\n\",\n",
        "              \"\\t│         │\\n\",\n",
        "              \"\\t└─────────┘\")\n",
        "        \n",
        "    elif val == 2:\n",
        "        print(\"\\t┌─────────┐\\n\",\n",
        "              \"\\t│  ●      │\\n\",\n",
        "              \"\\t│         │\\n\",\n",
        "              \"\\t│      ●  │\\n\",\n",
        "              \"\\t└─────────┘\\n\",)\n",
        "        \n",
        "    elif val == 3:\n",
        "        print(\"\\t┌─────────┐\\n\",\n",
        "              \"\\t│  ●      │\\n\",\n",
        "              \"\\t│    ●    │\\n\",\n",
        "              \"\\t│      ●  │\\n\",\n",
        "              \"\\t└─────────┘\\n\",)\n",
        "        \n",
        "    elif val == 4:\n",
        "        print(\"\\t┌─────────┐\\n\",\n",
        "              \"\\t│  ●   ●  │\\n\",\n",
        "              \"\\t│         │\\n\",\n",
        "              \"\\t│  ●   ●  │\\n\",\n",
        "              \"\\t└─────────┘\\n\",)\n",
        "        \n",
        "    elif val == 5:\n",
        "        print(\"\\t┌─────────┐\\n\",\n",
        "              \"\\t│  ●   ●  │\\n\",\n",
        "              \"\\t│    ●    │\\n\",\n",
        "              \"\\t│  ●   ●  │\\n\",\n",
        "              \"\\t└─────────┘\\n\",)\n",
        "        \n",
        "    else:\n",
        "      print(\"\\t┌─────────┐\\n\",\n",
        "            \"\\t│  ●   ●  │\\n\",\n",
        "            \"\\t│  ●   ●  │\\n\",\n",
        "            \"\\t│  ●   ●  │\\n\",\n",
        "            \"\\t└─────────┘\\n\",)\n",
        "        \n"
      ],
      "metadata": {
        "id": "Rq9IHowgHsmV"
      },
      "execution_count": 2,
      "outputs": []
    }
  ]
}