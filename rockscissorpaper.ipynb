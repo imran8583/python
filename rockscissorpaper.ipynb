{
  "nbformat": 4,
  "nbformat_minor": 0,
  "metadata": {
    "colab": {
      "provenance": [],
      "authorship_tag": "ABX9TyP6sz9XtnexaKQKhykj1AuG"
    },
    "kernelspec": {
      "name": "python3",
      "display_name": "Python 3"
    },
    "language_info": {
      "name": "python"
    }
  },
  "cells": [
    {
      "cell_type": "code",
      "execution_count": 4,
      "metadata": {
        "colab": {
          "base_uri": "https://localhost:8080/"
        },
        "id": "4tLQ7FhbGTph",
        "outputId": "4f843aeb-df28-4237-b681-45a2b9b6b79c"
      },
      "outputs": [
        {
          "output_type": "stream",
          "name": "stdout",
          "text": [
            "what is your choice? 'r' or 's' or 'p'? S\n",
            "Yay! You won\n"
          ]
        }
      ],
      "source": [
        "# Write a python program to implement Rock Paper Scissor game\n",
        "\n",
        "import random\n",
        "\n",
        "def play():\n",
        "    player = input(\"what is your choice? 'r' or 's' or 'p'? \").lower()\n",
        "    cpu = random.choice(['r', 'p', 's'])\n",
        "\n",
        "    if player == cpu:\n",
        "        return \"It's a tie\"\n",
        "\n",
        "    if win(player, cpu):\n",
        "        return \"Yay! You won\"\n",
        "\n",
        "    return \"You lose\"\n",
        "\n",
        "# r > s, s > p, p > r\n",
        "def win(player, opponent):\n",
        "    if (player == 'r' and opponent == 's') or (player == 's' and opponent == 'p') or (player == 'p' and opponent == 'r'):\n",
        "        return True\n",
        "\n",
        "print(play())"
      ]
    }
  ]
}