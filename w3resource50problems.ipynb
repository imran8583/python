{
  "nbformat": 4,
  "nbformat_minor": 0,
  "metadata": {
    "colab": {
      "provenance": [],
      "authorship_tag": "ABX9TyObwu2cgT3/2qcOKS0i23JK"
    },
    "kernelspec": {
      "name": "python3",
      "display_name": "Python 3"
    },
    "language_info": {
      "name": "python"
    }
  },
  "cells": [
    {
      "cell_type": "markdown",
      "source": [
        "# **50 easy python projects for practice:**"
      ],
      "metadata": {
        "id": "ITKi6lcSKDqK"
      }
    },
    {
      "cell_type": "code",
      "source": [
        "# 1. Write a Python program to print the following string in a specific format.\n",
        "\n",
        "# Sample Output:\n",
        "# Twinkle, twinkle, little star,\n",
        "# \tHow I wonder what you are! \n",
        "# \t\tUp above the world so high,   \t\t\n",
        "# \t\tLike a diamond in the sky. \n",
        "# Twinkle, twinkle, little star, \n",
        "# \tHow I wonder what you are\n",
        "\n",
        "print('''Twinkle, twinkle, little star, \\n\\tHow I wonder what you are!\n",
        "\\n\\t\\tUp above the world so high, \\n\\t\\tLike a diamond in the sky.\n",
        "\\nTwinkle, twinkle, little star, \\n\\tHow I wonder what you are!''')\n"
      ],
      "metadata": {
        "id": "mG44_UbCgibf",
        "colab": {
          "base_uri": "https://localhost:8080/"
        },
        "outputId": "64f53c03-c7ee-4fd5-fefc-3db2634a297a"
      },
      "execution_count": 119,
      "outputs": [
        {
          "output_type": "stream",
          "name": "stdout",
          "text": [
            "Twinkle, twinkle, little star, \n",
            "\tHow I wonder what you are!\n",
            "\n",
            "\t\tUp above the world so high, \n",
            "\t\tLike a diamond in the sky.\n",
            "\n",
            "Twinkle, twinkle, little star, \n",
            "\tHow I wonder what you are!\n"
          ]
        }
      ]
    },
    {
      "cell_type": "code",
      "source": [
        "# 2. Write a Python program to get the Python version you are using.\n",
        "\n",
        "import sys\n",
        "\n",
        "print(\"Python version\")\n",
        "print (sys.version)\n"
      ],
      "metadata": {
        "id": "bvYln3n8gsb_",
        "colab": {
          "base_uri": "https://localhost:8080/"
        },
        "outputId": "1b3ce12c-bd63-4597-fe85-25dc08073217"
      },
      "execution_count": 118,
      "outputs": [
        {
          "output_type": "stream",
          "name": "stdout",
          "text": [
            "Python version\n",
            "3.8.15 (default, Oct 12 2022, 19:14:39) \n",
            "[GCC 7.5.0]\n"
          ]
        }
      ]
    },
    {
      "cell_type": "code",
      "source": [
        "# 3. Write a Python program to display the current date and time.\n",
        "\n",
        "import datetime\n",
        "\n",
        "now = datetime.datetime.now()\n",
        "print(now.strftime(\"%Y-%m-%d %H:%M:%S\"))"
      ],
      "metadata": {
        "id": "YuhBLo4ehIt9",
        "colab": {
          "base_uri": "https://localhost:8080/"
        },
        "outputId": "3ff21d76-5cd2-4685-81bc-ad2b7863b185"
      },
      "execution_count": null,
      "outputs": [
        {
          "output_type": "stream",
          "name": "stdout",
          "text": [
            "2022-11-29 17:00:24\n"
          ]
        }
      ]
    },
    {
      "cell_type": "code",
      "source": [
        "# 4. Write a Python program which accepts the radius of a circle\n",
        "# from the user and compute the area.\n",
        "import math\n",
        "\n",
        "p = math.pi\n",
        "r = float(input(\"Enter the radius of the circle: \"))\n",
        "\n",
        "area = p*(r**2)\n",
        "\n",
        "print(area)"
      ],
      "metadata": {
        "id": "6bESRdGjhInC",
        "colab": {
          "base_uri": "https://localhost:8080/"
        },
        "outputId": "a768b5d0-45e9-43f1-aa79-26968f04dae7"
      },
      "execution_count": null,
      "outputs": [
        {
          "output_type": "stream",
          "name": "stdout",
          "text": [
            "Enter the radius of the circle: 1.1\n",
            "3.8013271108436504\n"
          ]
        }
      ]
    },
    {
      "cell_type": "code",
      "source": [
        "# 5. Write a Python program which accepts the user's\n",
        "# first and last name and print them in reverse order with a space between them.\n",
        "\n",
        "first = input(\"Enter your first name: \")\n",
        "last = input(\"Enter your last name: \")\n",
        "\n",
        "reverse_name = last + \" \" + first\n",
        "\n",
        "print(f\"Hello {reverse_name}\")"
      ],
      "metadata": {
        "id": "OveTdqNdhIqr",
        "colab": {
          "base_uri": "https://localhost:8080/"
        },
        "outputId": "6cbfce63-e603-465f-e18b-edb6d3e3e28e"
      },
      "execution_count": null,
      "outputs": [
        {
          "output_type": "stream",
          "name": "stdout",
          "text": [
            "Enter your first name: imran\n",
            "Enter your last name: abdul\n",
            "Hello abdul imran\n"
          ]
        }
      ]
    },
    {
      "cell_type": "code",
      "source": [
        "# 6. Write a Python program which accepts a sequence of comma-separated\n",
        "# numbers from user and generate a list and a tuple with those numbers.\n",
        "\n",
        "a = input(\"Enter number seperated by commas: \")\n",
        "\n",
        "lis = []\n",
        "tu = ()\n",
        "\n",
        "lis.extend((a.split(\",\")))\n",
        "\n",
        "tu = tuple(lis)\n",
        "\n",
        "print(tu)"
      ],
      "metadata": {
        "colab": {
          "base_uri": "https://localhost:8080/"
        },
        "id": "4_kvPolsmyIR",
        "outputId": "5cdff4e0-edf2-4788-8b65-dea81703299c"
      },
      "execution_count": null,
      "outputs": [
        {
          "output_type": "stream",
          "name": "stdout",
          "text": [
            "Enter number seperated by commas: 1,2,3,4,5\n",
            "('1', '2', '3', '4', '5')\n"
          ]
        }
      ]
    },
    {
      "cell_type": "code",
      "source": [
        "# 7. Write a Python program to accept a filename from the\n",
        "# user and print the extension of that.\n",
        "\n",
        "file = input(\"Enter a file name\")\n",
        "\n",
        "extension = file.split(\".\")\n",
        "\n",
        "print(f\"Extension of {file} is {extension[-1]} \")"
      ],
      "metadata": {
        "colab": {
          "base_uri": "https://localhost:8080/"
        },
        "id": "nxzbv6l_pvM9",
        "outputId": "3decea5f-70f0-4cf6-c524-a8a6031f2d3c"
      },
      "execution_count": null,
      "outputs": [
        {
          "output_type": "stream",
          "name": "stdout",
          "text": [
            "Enter a file nameimra.txt\n",
            "Extension of imra.txt is txt \n"
          ]
        }
      ]
    },
    {
      "cell_type": "code",
      "source": [
        "# 8. Write a Python program to display the first\n",
        "# and last colors from the following list.\n",
        "\n",
        "color_list = [\"Red\",\"Green\",\"White\" ,\"Black\"]\n",
        "\n",
        "print(color_list[0], color_list[-1])"
      ],
      "metadata": {
        "id": "YrqgTgUehIxI",
        "colab": {
          "base_uri": "https://localhost:8080/"
        },
        "outputId": "dcf17044-8bd1-404c-8289-070587eef532"
      },
      "execution_count": null,
      "outputs": [
        {
          "output_type": "stream",
          "name": "stdout",
          "text": [
            "Red Black\n"
          ]
        }
      ]
    },
    {
      "cell_type": "code",
      "source": [
        "# 9. Write a Python program to display the examination schedule.\n",
        "# (extract the date from exam_st_date)\n",
        "# exam_st_date = (11, 12, 2014)\n",
        "# Sample Output : The examination will start from : 11 / 12 / 2014\n",
        "\n",
        "exam_st_date = (11, 12, 2014)\n",
        "\n",
        "print(\"The examination will start from : %i / %i / %i\" %exam_st_date)\n"
      ],
      "metadata": {
        "colab": {
          "base_uri": "https://localhost:8080/"
        },
        "id": "QI1YAbW5rv12",
        "outputId": "dd0eca34-872b-4e86-b5c8-b4581de6aafb"
      },
      "execution_count": null,
      "outputs": [
        {
          "output_type": "stream",
          "name": "stdout",
          "text": [
            "The examination will start from : 11 / 12 / 2014\n"
          ]
        }
      ]
    },
    {
      "cell_type": "code",
      "source": [
        "# 10. Write a Python program that accepts an integer\n",
        "# (n) and computes the value of n+nn+nnn. Go to the editor\n",
        "# Example: n is 5 the ans is 615 (5+55+555)\n",
        "\n",
        "num = input(\"Enter the value of 'n': \")\n",
        "result = int(num) + int(num+num) + int(num+num+num)\n",
        "\n",
        "print(result)"
      ],
      "metadata": {
        "colab": {
          "base_uri": "https://localhost:8080/"
        },
        "id": "cuDXLhM2ueEr",
        "outputId": "f1e96aa1-f82a-45a4-f48b-d218ac0cc943"
      },
      "execution_count": null,
      "outputs": [
        {
          "output_type": "stream",
          "name": "stdout",
          "text": [
            "Enter the value of 'n': 9\n",
            "1107\n"
          ]
        }
      ]
    },
    {
      "cell_type": "code",
      "source": [
        "# 11. Write a Python program to print the documents\n",
        "# (syntax, description etc.) of Python built-in function(s).\n",
        "\n",
        "# Sample function : abs()\n",
        "# Expected Result :\n",
        "# abs(number) -> number\n",
        "# Return the absolute value of the argument.\n",
        "\n",
        "# func = input(\"Enter a built-in python function to read it's documentation \")\n",
        "\n",
        "print(abs.__doc__)\n",
        "\n"
      ],
      "metadata": {
        "colab": {
          "base_uri": "https://localhost:8080/"
        },
        "id": "MPMzx9h_v5mS",
        "outputId": "6606d1b1-d73e-47cd-c5e7-b37dad487e13"
      },
      "execution_count": null,
      "outputs": [
        {
          "output_type": "stream",
          "name": "stdout",
          "text": [
            "Return the absolute value of the argument.\n"
          ]
        }
      ]
    },
    {
      "cell_type": "code",
      "source": [
        "# 12. Write a Python program to print the calendar of a given month and year.\n",
        "# Note : Use 'calendar' module.\n",
        "\n",
        "import calendar\n",
        "\n",
        "y = int(input(\"Input the year : \"))\n",
        "m = int(input(\"Input the month : \"))\n",
        "print(calendar.month(y, m))\n"
      ],
      "metadata": {
        "colab": {
          "base_uri": "https://localhost:8080/"
        },
        "id": "eSvCp57aiT4J",
        "outputId": "3c3f799f-170e-4b9a-ef16-b80a3e57e715"
      },
      "execution_count": null,
      "outputs": [
        {
          "output_type": "stream",
          "name": "stdout",
          "text": [
            "Input the year : 1994\n",
            "Input the month : 7\n",
            "     July 1994\n",
            "Mo Tu We Th Fr Sa Su\n",
            "             1  2  3\n",
            " 4  5  6  7  8  9 10\n",
            "11 12 13 14 15 16 17\n",
            "18 19 20 21 22 23 24\n",
            "25 26 27 28 29 30 31\n",
            "\n"
          ]
        }
      ]
    },
    {
      "cell_type": "code",
      "source": [
        "# 14. Write a Python program to calculate number of days between two dates.\n",
        "# Sample dates : (2014, 7, 2), (2014, 7, 11)\n",
        "# Expected output : 9 days\n",
        "\n",
        "import datetime\n",
        "\n",
        "first_date = datetime.date(1994, 7, 24)\n",
        "\n",
        "second_date = datetime.date(2022, 11, 29)\n",
        "\n",
        "final_date = second_date - first_date\n",
        "\n",
        "print(final_date)"
      ],
      "metadata": {
        "colab": {
          "base_uri": "https://localhost:8080/"
        },
        "id": "AR-_hn2ciT6U",
        "outputId": "2813bf8f-1627-4051-f16d-6ebc0125702b"
      },
      "execution_count": null,
      "outputs": [
        {
          "output_type": "stream",
          "name": "stdout",
          "text": [
            "<class 'datetime.date'>\n",
            "2022-11-29\n",
            "10355 days, 0:00:00\n"
          ]
        }
      ]
    },
    {
      "cell_type": "code",
      "source": [
        "# 15. Write a Python program to get the volume of a sphere with radius 6.\n",
        "import math\n",
        "\n",
        "pi = math.pi\n",
        "vol = 4/3*pi*r**3\n",
        "\n",
        "print('The volume of the sphere is: ',vol)"
      ],
      "metadata": {
        "colab": {
          "base_uri": "https://localhost:8080/"
        },
        "id": "8qkGh_89iT9s",
        "outputId": "035b83bf-35b9-4a48-bb42-9375c8083034"
      },
      "execution_count": null,
      "outputs": [
        {
          "output_type": "stream",
          "name": "stdout",
          "text": [
            "The volume of the sphere is:  904.7786842338603\n"
          ]
        }
      ]
    },
    {
      "cell_type": "code",
      "source": [
        "# 16. Write a Python program to get the difference between a given number\n",
        "# and 17, if the number is greater than 17 return double the absolute difference.\n",
        "\n",
        "num = int(input(\"Enter a num: \"))\n",
        "\n",
        "if num > 17:\n",
        "    num = 2 * (num - 17)\n",
        "    print(num)\n",
        "else:\n",
        "    print(17 - num)\n",
        "\n"
      ],
      "metadata": {
        "colab": {
          "base_uri": "https://localhost:8080/"
        },
        "id": "PFq-Sgm-m_iM",
        "outputId": "f686aa53-b696-49a0-aa39-f07dd7b651ce"
      },
      "execution_count": null,
      "outputs": [
        {
          "output_type": "stream",
          "name": "stdout",
          "text": [
            "Enter a num: 14\n",
            "3\n"
          ]
        }
      ]
    },
    {
      "cell_type": "code",
      "source": [
        "# 17. Write a Python program to test whether a number is within 100 of 1000 or 2000. \n",
        "\n",
        "def near_thousand(num):\n",
        "    if (num >= 900 and num <= 1000) or (num >= 1900 and num <= 2000):\n",
        "        return True\n",
        "    else:\n",
        "        return False\n",
        "\n",
        "\n",
        "############## OR ############\n",
        "\n",
        "# def near_thousand(n):\n",
        "#       return ((abs(1000 - n) <= 100) or (abs(2000 - n) <= 100))\n",
        "# print(near_thousand(1000))\n",
        "# print(near_thousand(900))\n",
        "# print(near_thousand(800))   \n",
        "# print(near_thousand(2200))\n",
        "\n",
        "\n",
        "# near_thousand(1999)\n",
        "near_thousand(899)\n",
        "# near_thousand(955)\n",
        "# near_thousand(1920)"
      ],
      "metadata": {
        "id": "bjqQhOMXm_mN",
        "colab": {
          "base_uri": "https://localhost:8080/"
        },
        "outputId": "84413b21-5d29-4dbb-87f7-9a6dd373258b"
      },
      "execution_count": null,
      "outputs": [
        {
          "output_type": "execute_result",
          "data": {
            "text/plain": [
              "False"
            ]
          },
          "metadata": {},
          "execution_count": 15
        }
      ]
    },
    {
      "cell_type": "code",
      "source": [
        "# 18. Write a Python program to calculate the sum of three given numbers,\n",
        "# if the values are equal then return three times of their sum.\n",
        "\n",
        "def sum_of_three(a,b,c):\n",
        "    sum = a+b+c\n",
        "    if a == b == c:\n",
        "        return 3 * sum\n",
        "    return sum\n",
        "\n",
        "sum_of_three(2,2,2)\n",
        "# sum_of_three(4,6,2)\n"
      ],
      "metadata": {
        "id": "8Ct_C0R0m_oC",
        "colab": {
          "base_uri": "https://localhost:8080/"
        },
        "outputId": "44e817f9-190e-4874-f4e3-9e054f6ddc2d"
      },
      "execution_count": null,
      "outputs": [
        {
          "output_type": "execute_result",
          "data": {
            "text/plain": [
              "18"
            ]
          },
          "metadata": {},
          "execution_count": 28
        }
      ]
    },
    {
      "cell_type": "code",
      "source": [
        "# 19. Write a Python program to get a new string from a given string\n",
        "# where \"Is\" has been added to the front. If the given string already\n",
        "# begins with \"Is\" then return the string unchanged.\n",
        "\n",
        "def is_strg(strg):\n",
        "    if \"Is\" in strg[:2]:\n",
        "        return strg\n",
        "    return f\"Is{strg}\"\n",
        "\n",
        "strng = input(\"Enter a string: \")\n",
        "is_strg(strng)"
      ],
      "metadata": {
        "id": "7YhkhdWYm_p-",
        "colab": {
          "base_uri": "https://localhost:8080/",
          "height": 55
        },
        "outputId": "d4333fda-0a72-4693-ab0f-992da9751344"
      },
      "execution_count": null,
      "outputs": [
        {
          "name": "stdout",
          "output_type": "stream",
          "text": [
            "Enter a string: \n"
          ]
        },
        {
          "output_type": "execute_result",
          "data": {
            "text/plain": [
              "'Is'"
            ],
            "application/vnd.google.colaboratory.intrinsic+json": {
              "type": "string"
            }
          },
          "metadata": {},
          "execution_count": 36
        }
      ]
    },
    {
      "cell_type": "code",
      "source": [
        "# 20. Write a Python program to get a string which is n\n",
        "# (non-negative integer) copies of a given string.\n",
        "\n",
        "def large_str(num,strng):\n",
        "    if num > 0:\n",
        "        print(strg*n)\n",
        "\n",
        "n = int(input(\"Enter the number of copies: \"))\n",
        "strg = input(\"Enter a string value: \")\n",
        "\n",
        "large_str(n,strg)"
      ],
      "metadata": {
        "colab": {
          "base_uri": "https://localhost:8080/"
        },
        "id": "1Va2ELLUvIfS",
        "outputId": "b5fcf186-6379-4830-c0e3-6c5c9574a0ab"
      },
      "execution_count": null,
      "outputs": [
        {
          "name": "stdout",
          "output_type": "stream",
          "text": [
            "Enter the number of copies: -1\n",
            "Enter a string value: 3\n"
          ]
        }
      ]
    },
    {
      "cell_type": "code",
      "source": [
        "# 21. Write a Python program to find whether a given number (accept from the user)\n",
        "# is even or odd, print out an appropriate message to the user.\n",
        "\n",
        "def evn_odd(n):\n",
        "    if n % 2 == 0:\n",
        "        return \"even\"\n",
        "    return \"odd\"\n",
        "num = int(input(\"Enter a number to check if even or odd: \"))\n",
        "evn_odd(num)"
      ],
      "metadata": {
        "colab": {
          "base_uri": "https://localhost:8080/",
          "height": 55
        },
        "id": "lnFQV4xTvIh1",
        "outputId": "d49f1249-eace-438c-8803-7151aab16249"
      },
      "execution_count": null,
      "outputs": [
        {
          "name": "stdout",
          "output_type": "stream",
          "text": [
            "Enter a number to check if even or odd: 34\n"
          ]
        },
        {
          "output_type": "execute_result",
          "data": {
            "text/plain": [
              "'even'"
            ],
            "application/vnd.google.colaboratory.intrinsic+json": {
              "type": "string"
            }
          },
          "metadata": {},
          "execution_count": 48
        }
      ]
    },
    {
      "cell_type": "code",
      "source": [
        "# 22. Write a Python program to count the number 4 in a given list\n",
        "\n",
        "def count_four(value):\n",
        "    count = 0\n",
        "    for i in value:\n",
        "        if i == 4:\n",
        "            count += 1\n",
        "    return count\n",
        "\n",
        "\n",
        "lst1 = [1,2,3,4,5,6,7,4,1,8,4,5,9,1,4,14, 4, 96, 40,4]\n",
        "lst2 = [1,2,3,4,5,6,6,4,9,8,4,3,4,1,4,5,7,1,3,4,99,14,1,4]\n",
        "\n",
        "count_four(lst1)\n"
      ],
      "metadata": {
        "colab": {
          "base_uri": "https://localhost:8080/"
        },
        "id": "OuVwx9cVvImI",
        "outputId": "032fefa9-5f2f-47b9-b86e-59567279ebdf"
      },
      "execution_count": null,
      "outputs": [
        {
          "output_type": "execute_result",
          "data": {
            "text/plain": [
              "6"
            ]
          },
          "metadata": {},
          "execution_count": 67
        }
      ]
    },
    {
      "cell_type": "code",
      "source": [
        "# 23. Write a Python program to get the n (non-negative integer) copies of the\n",
        "# first 2 characters of a given string. Return the n copies of the whole string\n",
        "# if the length is less than 2\n",
        "\n",
        "def str_copies(n,strng):\n",
        "    while n > 0:\n",
        "        if n < 2:\n",
        "            return n * strg\n",
        "        return n * strng[:2]\n",
        "\n",
        "num = int(input(\"Enter a number of copies: \"))\n",
        "strg = input(\"Enter a string value: \")\n",
        "\n",
        "str_copies(num, strg)"
      ],
      "metadata": {
        "colab": {
          "base_uri": "https://localhost:8080/",
          "height": 73
        },
        "id": "FbuCDTjzvIoe",
        "outputId": "5d38a467-b15b-4870-814e-dce064b804b2"
      },
      "execution_count": null,
      "outputs": [
        {
          "name": "stdout",
          "output_type": "stream",
          "text": [
            "Enter a number of copies: 2\n",
            "Enter a string value: abdul\n"
          ]
        },
        {
          "output_type": "execute_result",
          "data": {
            "text/plain": [
              "'abab'"
            ],
            "application/vnd.google.colaboratory.intrinsic+json": {
              "type": "string"
            }
          },
          "metadata": {},
          "execution_count": 77
        }
      ]
    },
    {
      "cell_type": "code",
      "source": [
        "# 24. Write a Python program to test whether a passed letter is a vowel or not\n",
        "\n",
        "# def vow(letter):\n",
        "#     vowels = \"aeiou\"\n",
        "#     letter = letter.lower()\n",
        "#     for i in vowels:\n",
        "#         if i == letter:\n",
        "#             return True\n",
        "#     return False\n",
        "\n",
        "################## OR ###############\n",
        "\n",
        "def vow(char):\n",
        "    vowels = 'aeiou'\n",
        "    if char.lower() in vowels:\n",
        "        return True\n",
        "    return False\n",
        "\n",
        "vow('E')"
      ],
      "metadata": {
        "colab": {
          "base_uri": "https://localhost:8080/"
        },
        "id": "BgQeGlNjAkfW",
        "outputId": "596e0642-6a14-4fe0-c714-0292bc7890a1"
      },
      "execution_count": null,
      "outputs": [
        {
          "output_type": "execute_result",
          "data": {
            "text/plain": [
              "True"
            ]
          },
          "metadata": {},
          "execution_count": 116
        }
      ]
    },
    {
      "cell_type": "code",
      "source": [
        "# 25. Write a Python program to check whether a specified value is contained in\n",
        "# a group of values.\n",
        "# Test Data :\n",
        "# 3 -> [1, 5, 8, 3] : True\n",
        "# -1 -> [1, 5, 8, 3] : False\n",
        "\n",
        "container = [1,2,3,4,5,6,7,8,9]\n",
        "\n",
        "def value_check(val,con):\n",
        "    if val in con:\n",
        "        return True\n",
        "    return False\n",
        "\n",
        "user_val = int(input(\"Enter a num to check it's availability in container: \"))\n",
        "value_check(user_val, container)"
      ],
      "metadata": {
        "colab": {
          "base_uri": "https://localhost:8080/"
        },
        "id": "3b-2KiH3Akif",
        "outputId": "43a3d3d2-e8ef-4d14-fd32-66a74f9e33a4"
      },
      "execution_count": null,
      "outputs": [
        {
          "name": "stdout",
          "output_type": "stream",
          "text": [
            "Enter a num to check it's availability incontainer: -3\n"
          ]
        },
        {
          "output_type": "execute_result",
          "data": {
            "text/plain": [
              "False"
            ]
          },
          "metadata": {},
          "execution_count": 124
        }
      ]
    },
    {
      "cell_type": "code",
      "source": [
        "\n",
        "# 26. Write a Python program to create a histogram from a given list of integers.\n",
        "\n",
        "def histogram(star,cont):\n",
        "    for i in cont:\n",
        "        strg = star\n",
        "        strg *= i\n",
        "        print(strg)\n",
        "\n",
        "lst = [1,2,3,4,10,2,9,6]\n",
        "histogram('*',lst)"
      ],
      "metadata": {
        "colab": {
          "base_uri": "https://localhost:8080/"
        },
        "id": "Kpro_3M-AklH",
        "outputId": "10a618ad-2d18-4087-fe25-be7ac98b5ac2"
      },
      "execution_count": null,
      "outputs": [
        {
          "output_type": "stream",
          "name": "stdout",
          "text": [
            "*\n",
            "**\n",
            "***\n",
            "****\n",
            "**********\n",
            "**\n",
            "*********\n",
            "******\n"
          ]
        }
      ]
    },
    {
      "cell_type": "code",
      "source": [
        "# 27. Write a Python program to concatenate all elements in a list into\n",
        "# a string and return it. \n",
        "\n",
        "lstd = [5,1,5,9,33]\n",
        "\n",
        "strg = ''\n",
        "\n",
        "for i in lstd:\n",
        "    strg += str(i)\n",
        "print(strg)"
      ],
      "metadata": {
        "colab": {
          "base_uri": "https://localhost:8080/"
        },
        "id": "ss4POXA3Akqw",
        "outputId": "2fa59451-f7df-40c1-fe63-34d3957fca11"
      },
      "execution_count": null,
      "outputs": [
        {
          "output_type": "stream",
          "name": "stdout",
          "text": [
            "515933\n"
          ]
        }
      ]
    },
    {
      "cell_type": "code",
      "source": [
        "# 28. Write a Python program to print all even numbers from a given numbers list\n",
        "# in the same order and stop the printing if any numbers that come after 237 in the sequence\n",
        "\n",
        "# Sample numbers list :\n",
        "\n",
        "numbers = [    \n",
        "    386, 462, 1, 2, 4, 9, 47, 418, 907, 344, 236, 375, 823, 566, 597, 978, 328, 615, 953, 345, \n",
        "    399, 162, 758, 219, 918, 237, 412, 566, 826, 248, 866, 950, 626, 949, 687, 217, \n",
        "    815, 67, 104, 58, 512, 24, 892, 894, 767, 553, 81, 379, 843, 831, 445, 742, 717, \n",
        "    958,743, 527\n",
        "    ]\n",
        "\n",
        "def all_even(nums):\n",
        "    for i in nums:\n",
        "            if i % 2 == 0:\n",
        "                print(i)\n",
        "            elif i == 237:\n",
        "                print(i)\n",
        "                break\n",
        "\n",
        "all_even(numbers)"
      ],
      "metadata": {
        "colab": {
          "base_uri": "https://localhost:8080/"
        },
        "id": "ENslZJChRhUJ",
        "outputId": "74efda71-6d17-4c13-edbf-b04edbe2ac41"
      },
      "execution_count": null,
      "outputs": [
        {
          "output_type": "stream",
          "name": "stdout",
          "text": [
            "386\n",
            "462\n",
            "2\n",
            "4\n",
            "418\n",
            "344\n",
            "236\n",
            "566\n",
            "978\n",
            "328\n",
            "162\n",
            "758\n",
            "918\n",
            "237\n"
          ]
        }
      ]
    },
    {
      "cell_type": "code",
      "source": [
        "# 29. Write a Python program to print out a set containing all the colors from\n",
        "# color_list_1 which are not present in color_list_2.\n",
        "\n",
        "# Test Data :\n",
        "# color_list_1 = set([\"White\", \"Black\", \"Red\"])\n",
        "# color_list_2 = set([\"Red\", \"Green\"])\n",
        "# Expected Output :\n",
        "# {'Black', 'White'}\n",
        "\n",
        "color_list_1 = set([\"White\", \"Black\", \"Red\", \"Yellow\", \"Blue\", \"Green\"])\n",
        "color_list_2 = set([\"Red\", \"Green\", \"Orange\", \"Pale\"])\n",
        "result = set()\n",
        "\n",
        "for i in color_list_1:\n",
        "    if i not in color_list_2:\n",
        "        result.add(i)\n",
        "\n",
        "# print(result)\n",
        "\n",
        "\n",
        "################ OR #################\n",
        "\n",
        "print(color_list_1.difference(color_list_2))\n",
        "print(color_list_2.difference(color_list_1))"
      ],
      "metadata": {
        "colab": {
          "base_uri": "https://localhost:8080/"
        },
        "id": "hCnZ-RZ1RhXC",
        "outputId": "562e82d3-a166-4f70-9a9b-6446ee5afc26"
      },
      "execution_count": null,
      "outputs": [
        {
          "output_type": "stream",
          "name": "stdout",
          "text": [
            "{'White', 'Yellow', 'Black', 'Blue'}\n",
            "{'Pale', 'Orange'}\n"
          ]
        }
      ]
    },
    {
      "cell_type": "code",
      "source": [
        "# 30. Write a Python program that will accept the base and height of a\n",
        "# triangle and compute the area. \n",
        "\n",
        "b = int(input(\"Input the base of a triangle: \"))\n",
        "h = int(input(\"input the height of a triangel: \"))\n",
        "\n",
        "area = b * h / 2\n",
        "\n",
        "print(\"Area of Traingle is \" , area)"
      ],
      "metadata": {
        "colab": {
          "base_uri": "https://localhost:8080/"
        },
        "id": "87JwOmJpRhaC",
        "outputId": "897b1e16-b934-476f-98b2-e24a9507c56f"
      },
      "execution_count": null,
      "outputs": [
        {
          "output_type": "stream",
          "name": "stdout",
          "text": [
            "Input he base of a triangle: 2\n",
            "input the height of a triangel: 3\n",
            "Area of Traingle is  3.0\n"
          ]
        }
      ]
    },
    {
      "cell_type": "code",
      "source": [
        "# 31. Write a Python program to compute the greatest common divisor (GCD)\n",
        "# or Highest Common Factor (HCD) of two positive integers.\n",
        "\n",
        "first = int(input(\"Enter the first number: \"))\n",
        "second = int(input(\"Enter the second number: \"))\n",
        "\n",
        "# minNum = min(first,second)\n",
        "\n",
        "# for i in range(1, minNum + 1):\n",
        "#     if (first % i == 0 and second % i == 0):\n",
        "#         hcf = i\n",
        "# print(hcf)\n",
        "\n",
        "###################### OR ###################\n",
        "\n",
        "def GCD(a,b):\n",
        "    minNum = min(first,second)\n",
        "    maxNum = max(first,second)\n",
        "    rem = 1\n",
        "    while True:\n",
        "        rem = maxNum % minNum\n",
        "        print(rem)\n",
        "        if(rem == 0):\n",
        "            break\n",
        "        maxNum = minNum\n",
        "        minNum = rem\n",
        "\n",
        "    return minNum \n",
        "\n",
        "result = GCD(a,b)\n",
        "print(result)"
      ],
      "metadata": {
        "id": "7R6tOsdbRhcM",
        "colab": {
          "base_uri": "https://localhost:8080/"
        },
        "outputId": "639614a6-6641-4637-abf4-68ef941666c0"
      },
      "execution_count": null,
      "outputs": [
        {
          "output_type": "stream",
          "name": "stdout",
          "text": [
            "Enter the first number: 16\n",
            "Enter the second number: 31\n",
            "15\n",
            "1\n",
            "0\n",
            "1\n"
          ]
        }
      ]
    },
    {
      "cell_type": "code",
      "source": [
        "# 32. Write a Python program to get the least common multiple\n",
        "# (LCM) of two positive integers. \n",
        "\n",
        "first = int(input(\"Enter first number: \"))\n",
        "second = int(input(\"Enter second number: \"))\n",
        "\n",
        "maxNum = max(first,second)\n",
        "print(maxNum)\n",
        "# LCM will either be max alue of two integers or even bigger than thnat\n",
        "\n",
        "while(True):\n",
        "    if(maxNum % first == 0 and maxNum % second == 0):\n",
        "        break\n",
        "    maxNum += 1\n",
        "\n",
        "print(f\"The LCM of {first} and {second} is {maxNum} \")\n",
        "\n",
        "\n"
      ],
      "metadata": {
        "id": "7sb4BVdsiVpT",
        "colab": {
          "base_uri": "https://localhost:8080/"
        },
        "outputId": "0b6b1f61-9731-4cc1-d907-1c2904b6c0c1"
      },
      "execution_count": null,
      "outputs": [
        {
          "output_type": "stream",
          "name": "stdout",
          "text": [
            "Enter first number: 22\n",
            "Enter second number: 7\n",
            "22\n",
            "The LCM of 22 and 7 is 154 \n"
          ]
        }
      ]
    },
    {
      "cell_type": "code",
      "source": [
        "# 33. Write a Python program to sum of three given integers.\n",
        "# However, if two values are equal sum will be zero.\n",
        "\n",
        "def sum_of_three(f,s,t):\n",
        "  sum = 0\n",
        "  if f == s or s == t or t == s:\n",
        "      return sum\n",
        "  else:\n",
        "      sum = f + s + t\n",
        "      return sum\n",
        "\n",
        "sum_of_three(3,5,9)\n",
        "sum_of_three(6,5,2)\n",
        "sum_of_three(5,5,5)\n",
        "sum_of_three(6,5,7)\n",
        "sum_of_three(9,9,9)\n",
        "\n"
      ],
      "metadata": {
        "colab": {
          "base_uri": "https://localhost:8080/"
        },
        "id": "IIEHLYEqiVs4",
        "outputId": "b13bbce0-6578-4693-b0d4-3e184d77e6d0"
      },
      "execution_count": null,
      "outputs": [
        {
          "output_type": "execute_result",
          "data": {
            "text/plain": [
              "18"
            ]
          },
          "metadata": {},
          "execution_count": 191
        }
      ]
    },
    {
      "cell_type": "code",
      "source": [
        "# 34. Write a Python program to sum of two given integers. However, if the sum is\n",
        "# between 15 to 20 it will return 20. \n",
        "\n",
        "# def sum_of_three(f,s):\n",
        "#     sum = f + s\n",
        "#     if sum >=15 and sum <= 20:\n",
        "#         sum = 20\n",
        "#         return sum\n",
        "#     return sum\n",
        "\n",
        "\n",
        "################## OR ################\n",
        "\n",
        "\n",
        "def sum_of_three(x, y):\n",
        "    sum = x + y\n",
        "    if sum in range(15, 21):\n",
        "        return 20\n",
        "    else:\n",
        "        return sum\n",
        "\n",
        "sum_of_three(4,15)"
      ],
      "metadata": {
        "colab": {
          "base_uri": "https://localhost:8080/"
        },
        "id": "TTFKhTwpiVwb",
        "outputId": "b8a2a5ca-1803-4831-ead8-fbf8dcd1da41"
      },
      "execution_count": null,
      "outputs": [
        {
          "output_type": "execute_result",
          "data": {
            "text/plain": [
              "20"
            ]
          },
          "metadata": {},
          "execution_count": 195
        }
      ]
    },
    {
      "cell_type": "code",
      "source": [
        "# 35. Write a Python program that will return true if the two given integer values\n",
        "# are equal or their sum or difference is 5.\n",
        "\n",
        "def equal_int(a,b):\n",
        "    sum = a + b\n",
        "    diff = a - b\n",
        "    if sum == 5 or diff == 5 or a == b:\n",
        "        return True\n",
        "    else:\n",
        "        return False\n",
        "\n",
        "# equal_int(5,6)\n",
        "# equal_int(5,0)\n",
        "# equal_int(15,10)\n",
        "equal_int(15,15)\n",
        "equal_int(15,16)"
      ],
      "metadata": {
        "id": "xDQOYQjylkVK",
        "colab": {
          "base_uri": "https://localhost:8080/",
          "height": 0
        },
        "outputId": "b87d85e9-1c38-43b0-a15d-88e09f63dc68"
      },
      "execution_count": 31,
      "outputs": [
        {
          "output_type": "execute_result",
          "data": {
            "text/plain": [
              "False"
            ]
          },
          "metadata": {},
          "execution_count": 31
        }
      ]
    },
    {
      "cell_type": "code",
      "source": [
        "# 36. Write a Python program to add two objects if both objects are\n",
        "# an integer type.\n",
        "\n",
        "# def int_typed(a,b):\n",
        "#     print(type(a))\n",
        "#     if type(a) == 'int' and type(b) == 'int':\n",
        "#         return a + b\n",
        "#     else:\n",
        "#         return False\n",
        "\n",
        "# int_typed(6,7)\n",
        "# ABOVE CODE NOT WORKING\n",
        "\n",
        "\n",
        "###################### OR ####################\n",
        "\n",
        "def add_numbers(a, b):\n",
        "\n",
        "   if isinstance(a, int) and isinstance(b, int):\n",
        "       return f\"Sum is {a + b}\"\n",
        "   return \"Inputs must be integers!\"\n",
        "\n",
        "\n",
        "# print(add_numbers(10, 20))\n",
        "# print(add_numbers(10, 20.23))\n",
        "print(add_numbers('5', 6))\n",
        "# print(add_numbers('5', '6'))\n"
      ],
      "metadata": {
        "colab": {
          "base_uri": "https://localhost:8080/",
          "height": 0
        },
        "id": "-krtYZ6tnTwk",
        "outputId": "0b8dd1e1-f2f8-4bc6-a259-420d19ecfe7e"
      },
      "execution_count": 44,
      "outputs": [
        {
          "output_type": "stream",
          "name": "stdout",
          "text": [
            "Inputs must be integers!\n"
          ]
        }
      ]
    },
    {
      "cell_type": "code",
      "source": [
        "# 37. Write a Python program to display your details like name,\n",
        "# age, address in three different lines.\n",
        "\n",
        "\n",
        "def personal_details():\n",
        "\n",
        "    name = input(\"What is your name? \")\n",
        "    age = int(input(\"What is your age? \"))\n",
        "    address = input(\"What is your address? \")\n",
        "    print(\"\\nYour name is \", name, \"\\nYour age is \", age, \"\\nYour address is \", address)\n",
        "\n",
        "personal_details()"
      ],
      "metadata": {
        "colab": {
          "base_uri": "https://localhost:8080/",
          "height": 0
        },
        "id": "bAWwgcFEwMqY",
        "outputId": "7ce3c620-66ad-4f79-dd10-c595cde1427c"
      },
      "execution_count": 48,
      "outputs": [
        {
          "output_type": "stream",
          "name": "stdout",
          "text": [
            "What is your name? Imran\n",
            "What is your age? 28\n",
            "What is your address? RCP\n",
            "\n",
            "Your name is  Imran \n",
            "Your age is  28 \n",
            "Your address is  RCP\n"
          ]
        }
      ]
    },
    {
      "cell_type": "code",
      "source": [
        "# 38. Write a Python program to solve (x + y) * (x + y)\n",
        "# Test Data : x = 4, y = 3\n",
        "# Expected Output : (4 + 3) ^ 2) = 49\n",
        "\n",
        "def pow(x,y):\n",
        "    # return (x + y) * (x + y)\n",
        "    return x*x + 2*x*y + y*y\n",
        "\n",
        "pow(4,3)"
      ],
      "metadata": {
        "colab": {
          "base_uri": "https://localhost:8080/",
          "height": 0
        },
        "id": "JmL0KlO4wMsh",
        "outputId": "b114e37d-f24a-4b8c-eb18-7645e863de1c"
      },
      "execution_count": 50,
      "outputs": [
        {
          "output_type": "execute_result",
          "data": {
            "text/plain": [
              "49"
            ]
          },
          "metadata": {},
          "execution_count": 50
        }
      ]
    },
    {
      "cell_type": "code",
      "source": [
        "# 39. Write a Python program to compute the future value of a specified principal\n",
        "# amount, rate of interest, and a number of years.\n",
        "# Test Data : amt = 10000, int = 3.5, years = 7\n",
        "# Expected Output : 12722.79\n",
        "\n",
        "#  FV(future value) = P(1 + r/n)^nt\n",
        "\n",
        "amt = 10000 #principal\n",
        "interest = 3.5\n",
        "years = 7\n",
        "\n",
        "fv = amt*((1+(0.01*interest)) ** years)\n",
        "\n",
        "print(round(fv,2))  #12722.79\n",
        "# print(fv)   # 12722.792627665729"
      ],
      "metadata": {
        "colab": {
          "base_uri": "https://localhost:8080/",
          "height": 0
        },
        "id": "vMNhG4AuwMux",
        "outputId": "f96774af-3734-418e-c2fb-4eecfe0d3940"
      },
      "execution_count": 53,
      "outputs": [
        {
          "output_type": "stream",
          "name": "stdout",
          "text": [
            "12722.79\n"
          ]
        }
      ]
    },
    {
      "cell_type": "code",
      "source": [
        "# 40. Write a Python program to compute the distance between the points\n",
        "# (x1, y1) and (x2, y2)\n",
        "\n",
        "import math\n",
        "\n",
        "p1 = [4, 6]\n",
        "p2 = [8, 3]\n",
        "\n",
        "# p1 = [x1, y1]\n",
        "# p2 = [x2, y2]\n",
        "\n",
        "distance = math.sqrt((p2[0] - p1[0])**2 + (p2[1] - p1[1])**2)\n",
        "print(distance)"
      ],
      "metadata": {
        "colab": {
          "base_uri": "https://localhost:8080/",
          "height": 0
        },
        "id": "eXhyR5ScwMyT",
        "outputId": "302e1c90-d004-41d4-e17c-99c6143051f9"
      },
      "execution_count": 59,
      "outputs": [
        {
          "output_type": "stream",
          "name": "stdout",
          "text": [
            "5.0\n",
            "6.324555320336759\n"
          ]
        }
      ]
    },
    {
      "cell_type": "code",
      "source": [
        "# 41. Write a Python program to check whether a file exists\n",
        "\n",
        "import os.path\n",
        "print(os.path.exists('/content/sample_data/README.md'))\n",
        "print(os.path.exists('main.py'))\n"
      ],
      "metadata": {
        "colab": {
          "base_uri": "https://localhost:8080/",
          "height": 0
        },
        "id": "Ie1FPmZiwM2a",
        "outputId": "ea526de4-6658-442a-8d07-33a589a602d1"
      },
      "execution_count": 61,
      "outputs": [
        {
          "output_type": "stream",
          "name": "stdout",
          "text": [
            "True\n",
            "False\n"
          ]
        }
      ]
    },
    {
      "cell_type": "code",
      "source": [
        "# 42. Write a Python program to determine if a Python shell is executing in 32bit\n",
        "# or 64bit mode on OS. \n",
        "\n",
        "# For 32 bit it will return 32 and for 64 bit it will return 64\n",
        "import struct\n",
        "print(struct.calcsize(\"P\") * 8)\n",
        "# dir(struct)\n"
      ],
      "metadata": {
        "colab": {
          "base_uri": "https://localhost:8080/"
        },
        "id": "M1o9y0NpwM4b",
        "outputId": "3b9f107c-f771-4af5-dbc6-f0ecee8079f7"
      },
      "execution_count": 68,
      "outputs": [
        {
          "output_type": "stream",
          "name": "stdout",
          "text": [
            "64\n"
          ]
        },
        {
          "output_type": "execute_result",
          "data": {
            "text/plain": [
              "['Struct',\n",
              " '__all__',\n",
              " '__builtins__',\n",
              " '__cached__',\n",
              " '__doc__',\n",
              " '__file__',\n",
              " '__loader__',\n",
              " '__name__',\n",
              " '__package__',\n",
              " '__spec__',\n",
              " '_clearcache',\n",
              " 'calcsize',\n",
              " 'error',\n",
              " 'iter_unpack',\n",
              " 'pack',\n",
              " 'pack_into',\n",
              " 'unpack',\n",
              " 'unpack_from']"
            ]
          },
          "metadata": {},
          "execution_count": 68
        }
      ]
    },
    {
      "cell_type": "code",
      "source": [
        "# 43. Write a Python program to get OS name, platform and release information\n",
        "\n",
        "import platform\n",
        "import os\n",
        "print(\"Name of the operating system:\",os.name)\n",
        "print(\"\\nName of the OS system:\",platform.system())\n",
        "print(\"\\nVersion of the operating system:\",platform.release())\n"
      ],
      "metadata": {
        "colab": {
          "base_uri": "https://localhost:8080/"
        },
        "id": "_K6StKxSwM-9",
        "outputId": "13f28e7b-bc11-4000-bbda-062d1e0fb5b8"
      },
      "execution_count": 71,
      "outputs": [
        {
          "output_type": "stream",
          "name": "stdout",
          "text": [
            "Name of the operating system: posix\n",
            "\n",
            "Name of the OS system: Linux\n",
            "\n",
            "Version of the operating system: 5.10.133+\n"
          ]
        }
      ]
    },
    {
      "cell_type": "code",
      "source": [
        "# 44. Write a Python program to locate Python site-packages\n",
        "\n",
        "import site\n",
        "print(site.getsitepackages())\n",
        "# dir(site)"
      ],
      "metadata": {
        "colab": {
          "base_uri": "https://localhost:8080/"
        },
        "id": "zySXpqCmBegF",
        "outputId": "99f4b92b-224f-4c41-bc2e-c31e76816af4"
      },
      "execution_count": 75,
      "outputs": [
        {
          "output_type": "stream",
          "name": "stdout",
          "text": [
            "['/usr/local/lib/python3.8/dist-packages', '/usr/lib/python3/dist-packages', '/usr/lib/python3.8/dist-packages']\n"
          ]
        }
      ]
    },
    {
      "cell_type": "code",
      "source": [
        "# 45. Write a Python program to call an external command.\n",
        "\n",
        "from subprocess import call\n",
        "call([\"ls\", \"-l\"])\n"
      ],
      "metadata": {
        "colab": {
          "base_uri": "https://localhost:8080/"
        },
        "id": "luNjxWEfBell",
        "outputId": "8909dd7e-0e73-4f7f-a3c5-a173b1e3587a"
      },
      "execution_count": 76,
      "outputs": [
        {
          "output_type": "execute_result",
          "data": {
            "text/plain": [
              "0"
            ]
          },
          "metadata": {},
          "execution_count": 76
        }
      ]
    },
    {
      "cell_type": "code",
      "source": [
        "# 46. Write a python program to get the path and name of the file\n",
        "# that is currently executing\n",
        "\n",
        "import os\n",
        "# print(\"Current File Name : \",os.path.realpath(__file__))\n",
        "# dir(os)\n",
        "\n",
        "print(\"path: \", os.path, \"name: \", os.name)"
      ],
      "metadata": {
        "colab": {
          "base_uri": "https://localhost:8080/"
        },
        "id": "NAAO258mBeom",
        "outputId": "9a2a35e3-e7a6-4ea6-dc34-7c296e5ae20f"
      },
      "execution_count": 87,
      "outputs": [
        {
          "output_type": "stream",
          "name": "stdout",
          "text": [
            "path:  <module 'posixpath' from '/usr/lib/python3.8/posixpath.py'> name:  posix\n"
          ]
        }
      ]
    },
    {
      "cell_type": "code",
      "source": [
        "# 47. Write a Python program to find out the number of CPUs using\n",
        "\n",
        "import os\n",
        "print(os.cpu_count())\n",
        "\n",
        "# import multiprocessing\n",
        "# print(multiprocessing.cpu_count())"
      ],
      "metadata": {
        "colab": {
          "base_uri": "https://localhost:8080/"
        },
        "id": "qEV649j-Berf",
        "outputId": "aac3c233-867d-4056-b912-4b178a76a796"
      },
      "execution_count": 91,
      "outputs": [
        {
          "output_type": "stream",
          "name": "stdout",
          "text": [
            "2\n",
            "2\n"
          ]
        }
      ]
    },
    {
      "cell_type": "code",
      "source": [
        "# 48. Write a Python program to parse a string to Float or Integer\n",
        "\n",
        "n = \"246.2458\"\n",
        "print(float(n))\n",
        "print(int(float(n)))\n"
      ],
      "metadata": {
        "colab": {
          "base_uri": "https://localhost:8080/"
        },
        "id": "RTtdATJsBeu0",
        "outputId": "dd74194d-b779-412d-c493-e2364c43c540"
      },
      "execution_count": 94,
      "outputs": [
        {
          "output_type": "stream",
          "name": "stdout",
          "text": [
            "246.2458\n",
            "246\n"
          ]
        }
      ]
    },
    {
      "cell_type": "code",
      "source": [
        "# 49. Write a Python program to list all files in a directory in Python\n",
        "\n",
        "from os import listdir\n",
        "from os.path import isfile, join\n",
        "\n",
        "files_list = []\n",
        "\n",
        "for f in listdir('/content/sample_data'):\n",
        "    if isfile(join('/content/sample_data', f)):\n",
        "      files_list.append(f)\n",
        "\n",
        "print(files_list)\n"
      ],
      "metadata": {
        "colab": {
          "base_uri": "https://localhost:8080/"
        },
        "id": "_7dCNuXDBewr",
        "outputId": "e1f44860-5b2b-4907-b31e-24c9efee87ca"
      },
      "execution_count": 100,
      "outputs": [
        {
          "output_type": "stream",
          "name": "stdout",
          "text": [
            "['anscombe.json', 'README.md', 'california_housing_test.csv', 'mnist_test.csv', 'california_housing_train.csv', 'mnist_train_small.csv']\n"
          ]
        }
      ]
    },
    {
      "cell_type": "code",
      "source": [
        "# 50. Write a Python program to print without newline or space.\n",
        "\n",
        "for i in range(20):\n",
        "    print(0, end = '')\n",
        "print(\"\\n\\tEnd!\")"
      ],
      "metadata": {
        "colab": {
          "base_uri": "https://localhost:8080/"
        },
        "id": "ZUL3GyfBBe1S",
        "outputId": "4afbc64a-0da9-4ead-cb63-69d8318f8129"
      },
      "execution_count": 112,
      "outputs": [
        {
          "output_type": "stream",
          "name": "stdout",
          "text": [
            "00000000000000000000\n",
            "\tEnd!\n"
          ]
        }
      ]
    },
    {
      "cell_type": "code",
      "source": [],
      "metadata": {
        "id": "dp2GpP4GBe3o"
      },
      "execution_count": null,
      "outputs": []
    }
  ]
}