{
  "nbformat": 4,
  "nbformat_minor": 0,
  "metadata": {
    "colab": {
      "provenance": [],
      "authorship_tag": "ABX9TyMW6UoXrYNdjAH675kCJm3/"
    },
    "kernelspec": {
      "name": "python3",
      "display_name": "Python 3"
    },
    "language_info": {
      "name": "python"
    }
  },
  "cells": [
    {
      "cell_type": "code",
      "execution_count": null,
      "metadata": {
        "colab": {
          "base_uri": "https://localhost:8080/"
        },
        "id": "QFH98rNvrpdk",
        "outputId": "163c7b49-eace-4c86-f70d-12f6348f3dd6"
      },
      "outputs": [
        {
          "output_type": "stream",
          "name": "stdout",
          "text": [
            "         3 function calls in 0.000 seconds\n",
            "\n",
            "   Ordered by: standard name\n",
            "\n",
            "   ncalls  tottime  percall  cumtime  percall filename:lineno(function)\n",
            "        1    0.000    0.000    0.000    0.000 <string>:1(<module>)\n",
            "        1    0.000    0.000    0.000    0.000 {built-in method builtins.exec}\n",
            "        1    0.000    0.000    0.000    0.000 {method 'disable' of '_lsprof.Profiler' objects}\n",
            "\n",
            "\n"
          ]
        },
        {
          "output_type": "execute_result",
          "data": {
            "text/plain": [
              "['shaik', 'abdul', 'imran']"
            ]
          },
          "metadata": {},
          "execution_count": 16
        }
      ],
      "source": [
        "# 51. Write a Python program to determine profiling of Python programs\n",
        "\n",
        "import cProfile\n",
        "\n",
        "name = [\"imran\", \"abdul\", \"shaik\"]\n",
        "\n",
        "name.sort(key=lambda x: x[-1])\n",
        "\n",
        "cProfile.run('name')\n",
        "\n",
        "name"
      ]
    },
    {
      "cell_type": "code",
      "source": [
        "# 52. Write a Python program to sum of the first n positive integers.\n",
        "\n",
        "# def sum_n(num):\n",
        "#     sum_val = 0\n",
        "#     # map(lambda x: )\n",
        "#     for i in range(num+1):\n",
        "#         sum_val += i\n",
        "\n",
        "#     return f\"Sum of the first {num} positive integers: {sum_val}\"\n",
        "\n",
        "# sum_n(12)\n",
        "\n",
        "################# OR ##################\n",
        "\n",
        "n = int(input(\"Input a number: \"))\n",
        "sum_num = (n * (n + 1)) / 2\n",
        "print(\"Sum of the first\", n ,\"positive integers:\", sum_num)\n",
        "\n"
      ],
      "metadata": {
        "colab": {
          "base_uri": "https://localhost:8080/"
        },
        "id": "bPQJhz8iDTO0",
        "outputId": "c1cec6f4-54ca-4303-d2e2-1407938c5364"
      },
      "execution_count": null,
      "outputs": [
        {
          "output_type": "stream",
          "name": "stdout",
          "text": [
            "Input a number: 11\n",
            "Sum of the first 11 positive integers: 66.0\n"
          ]
        }
      ]
    },
    {
      "cell_type": "code",
      "source": [
        "# 53. Write a Python program to convert height (in feet and inches) to centimeters\n",
        "\n",
        "in_feets = float(input(\"Enter your height in feets: \"))\n",
        "in_inches = float(input(\"Enter your height in inches: \"))\n",
        "\n",
        "in_cms = 30.48 * in_feets + in_inches * 2.54\n",
        "\n",
        "\n",
        "print(f\"The height of {in_feets} feets and {in_inches} inches is {round(in_cms)} cms\")\n"
      ],
      "metadata": {
        "colab": {
          "base_uri": "https://localhost:8080/"
        },
        "id": "6JV7GOgpGEgN",
        "outputId": "623b88b1-e7f5-4e96-f448-a7639b2e6d96"
      },
      "execution_count": null,
      "outputs": [
        {
          "output_type": "stream",
          "name": "stdout",
          "text": [
            "Enter your height in feets: 5\n",
            "Enter your height in inches: 3\n",
            "The height of 5.0 feets and 3.0 inches is 160 cms\n"
          ]
        }
      ]
    },
    {
      "cell_type": "code",
      "source": [
        "# 54. Write a Python program to calculate the hypotenuse of a right angled triangle\n",
        "\n",
        "import math\n",
        "\n",
        "def hypotenuse():\n",
        "\n",
        "    a = float(input(\"Enter a's value: \"))\n",
        "    b = float(input(\"Enter b's value: \"))\n",
        "    hypotenuse = math.sqrt(a**2 + b**2)\n",
        "    return hypotenuse\n",
        "\n",
        "hypotenuse()"
      ],
      "metadata": {
        "colab": {
          "base_uri": "https://localhost:8080/"
        },
        "id": "sBKWFUQmJ9su",
        "outputId": "36426d78-d4b3-45d3-e482-069289007213"
      },
      "execution_count": null,
      "outputs": [
        {
          "name": "stdout",
          "output_type": "stream",
          "text": [
            "Enter a value: 4\n",
            "Enter b value: 3\n"
          ]
        },
        {
          "output_type": "execute_result",
          "data": {
            "text/plain": [
              "5.0"
            ]
          },
          "metadata": {},
          "execution_count": 38
        }
      ]
    },
    {
      "cell_type": "code",
      "source": [
        "# 55. Write a Python program to convert the distance (in feet) to inches, yards, and miles.\n",
        "\n",
        "def distance():\n",
        "    distance = float(input(\"Enter the distance in (feets): \"))\n",
        "\n",
        "    inches = distance * 12  # 12 inces is 1 feet\n",
        "    yards = distance / 3   # 3 feets is in yard\n",
        "    miles = distance / 5280\n",
        "\n",
        "    return f\" the distance of {distance} in feets is {inches} in inches, {yards} in yards, {miles} in miles \"\n",
        "\n",
        "distance()\n",
        "\n"
      ],
      "metadata": {
        "colab": {
          "base_uri": "https://localhost:8080/",
          "height": 55
        },
        "id": "FxGnvqYXLMU6",
        "outputId": "0cd830e5-b15b-4975-9785-4d59a85d46f2"
      },
      "execution_count": null,
      "outputs": [
        {
          "name": "stdout",
          "output_type": "stream",
          "text": [
            "Enter the distance in (feets): 100\n"
          ]
        },
        {
          "output_type": "execute_result",
          "data": {
            "text/plain": [
              "' the distance of 100.0 in feets is 1200.0 in inches, 33.333333333333336 in yards, 0.01893939393939394 in miles '"
            ],
            "application/vnd.google.colaboratory.intrinsic+json": {
              "type": "string"
            }
          },
          "metadata": {},
          "execution_count": 43
        }
      ]
    },
    {
      "cell_type": "code",
      "source": [
        "# 56. Write a Python program to convert all units of time into seconds\n",
        "\n",
        "def time_secs():\n",
        "\n",
        "    days = int(input(\"Enter time in days: \")) * 24 * 60 * 60\n",
        "    hours = int(input(\"Enter time in hours: \")) * 60 * 60\n",
        "    mins = int(input(\"Enter time in mins: \")) * 60\n",
        "    secs = int(input(\"Enter time in secs: \"))\n",
        "    time_insecs = days + hours + mins + secs\n",
        "\n",
        "    return f\"Total time in secs is {time_insecs}\" \n",
        "\n",
        "time_secs()"
      ],
      "metadata": {
        "colab": {
          "base_uri": "https://localhost:8080/",
          "height": 110
        },
        "id": "R7D8AGNiLMXS",
        "outputId": "b0a7afca-3266-428c-a830-62b6ab373021"
      },
      "execution_count": null,
      "outputs": [
        {
          "name": "stdout",
          "output_type": "stream",
          "text": [
            "Enter time in days: 28\n",
            "Enter time in hours: 6\n",
            "Enter time in mins: 28\n",
            "Enter time in secs: 36\n"
          ]
        },
        {
          "output_type": "execute_result",
          "data": {
            "text/plain": [
              "'Total time in secs is 2442516'"
            ],
            "application/vnd.google.colaboratory.intrinsic+json": {
              "type": "string"
            }
          },
          "metadata": {},
          "execution_count": 45
        }
      ]
    },
    {
      "cell_type": "code",
      "source": [
        "# 57. Write a Python program to convert seconds to day, hour, minutes and seconds\n",
        "\n",
        "def secs_time():\n",
        "    secs = int(input(\"Enter secs value: \"))\n",
        "\n",
        "    mins = secs / 60\n",
        "    hour = mins / 60\n",
        "    days = hour / 24\n",
        "    return f\" For {secs} secs {mins} mins, {hour} hours, and {days} days \"\n",
        "\n",
        "secs_time()"
      ],
      "metadata": {
        "colab": {
          "base_uri": "https://localhost:8080/",
          "height": 55
        },
        "id": "NZ3m-afSXA4O",
        "outputId": "254875dc-b833-4774-c840-2caea86aacc5"
      },
      "execution_count": null,
      "outputs": [
        {
          "name": "stdout",
          "output_type": "stream",
          "text": [
            "Enter secs value: 12697\n"
          ]
        },
        {
          "output_type": "execute_result",
          "data": {
            "text/plain": [
              "' For 12697 secs 211.61666666666667 mins, 3.5269444444444447 hours, and 0.14695601851851853 days '"
            ],
            "application/vnd.google.colaboratory.intrinsic+json": {
              "type": "string"
            }
          },
          "metadata": {},
          "execution_count": 51
        }
      ]
    },
    {
      "cell_type": "code",
      "source": [
        "# 58. Write a Python program to get an absolute file path.\n",
        "\n",
        "def absolute_file_path(path_fname):\n",
        "        import os\n",
        "        return os.path.abspath('path_fname')        \n",
        "print(\"Absolute file path: \",absolute_file_path(\"test.txt\"))\n"
      ],
      "metadata": {
        "colab": {
          "base_uri": "https://localhost:8080/"
        },
        "id": "x45ED5W9LMaD",
        "outputId": "5f422a03-2853-483f-a5d6-0a00dc20d281"
      },
      "execution_count": null,
      "outputs": [
        {
          "output_type": "stream",
          "name": "stdout",
          "text": [
            "Absolute file path:  /content/path_fname\n"
          ]
        }
      ]
    },
    {
      "cell_type": "code",
      "source": [
        "# 59. Write a program to calculate the sum of series up to n term. \n",
        "# For example, if n = 5 the series will become 2 + 22 + 222 + 2222 + 22222 = 24690\n",
        "\n",
        "num = int(input(\"What is the series range? \"))\n",
        "repeat = input(\"Enter the value you want a total of: \")\n",
        "total = 0\n",
        "\n",
        "for i in range(1, num+1):\n",
        "    total += int(repeat * i)\n",
        "\n",
        "print(f\"The total of number {repeat} series for {num} times is: {total}\")\n"
      ],
      "metadata": {
        "id": "T7XjMnwKaInb",
        "colab": {
          "base_uri": "https://localhost:8080/"
        },
        "outputId": "eb7845f3-77e1-4d08-d79f-0f5850859988"
      },
      "execution_count": null,
      "outputs": [
        {
          "output_type": "stream",
          "name": "stdout",
          "text": [
            "What is the series range? 5\n",
            "Enter the value you want a total of: 2\n",
            "The total of number 2 series for 5 times is: 24690\n"
          ]
        }
      ]
    },
    {
      "cell_type": "code",
      "source": [
        "# 60. Write a Python program to calculate body mass index\n",
        "# BMI = W(kgs)/H**2(mts)\n",
        "\n",
        "def bmi_calculator():\n",
        "    height_mts = float(input(\"Enter your height in meters: \"))\n",
        "    weight_kgs = float(input(\"Enter your weight in kgs: \"))\n",
        "\n",
        "    bmi = weight_kgs / height_mts ** 2\n",
        "    return bmi\n",
        "\n",
        "bmi_calculator()"
      ],
      "metadata": {
        "colab": {
          "base_uri": "https://localhost:8080/"
        },
        "id": "f9F0Bla47E3M",
        "outputId": "ce51a824-2c27-47be-bc6b-c4601b1d30fa"
      },
      "execution_count": null,
      "outputs": [
        {
          "name": "stdout",
          "output_type": "stream",
          "text": [
            "Enter your height in meters: 1.58\n",
            "Enter your weight in kgs: 52\n"
          ]
        },
        {
          "output_type": "execute_result",
          "data": {
            "text/plain": [
              "20.82999519307803"
            ]
          },
          "metadata": {},
          "execution_count": 3
        }
      ]
    },
    {
      "cell_type": "code",
      "source": [
        "# 61. Write a Python program to convert pressure in kilopascals to pounds per\n",
        "# square inch, a millimeter of mercury (mmHg) and atmosphere pressure\n",
        "\n",
        "pressure_kp = float(input(\"Enter pressure in kps: \"))\n",
        "\n",
        "ppsi = pressure_kp / 6.895\n",
        "mmHg = pressure_kp * 7.501\n",
        "ap = pressure_kp / 101.3\n",
        "print(mmHg)"
      ],
      "metadata": {
        "colab": {
          "base_uri": "https://localhost:8080/"
        },
        "id": "-Y6vQTtC7FSj",
        "outputId": "ba89f1da-b122-49ae-d775-94bda66d343d"
      },
      "execution_count": null,
      "outputs": [
        {
          "output_type": "stream",
          "name": "stdout",
          "text": [
            "Enter pressure in kps: 1\n",
            "7.501\n"
          ]
        }
      ]
    },
    {
      "cell_type": "code",
      "source": [
        "# 62. Write a sorting method\n",
        "\n",
        "lst = [1,6,7,2,3,4,8,9,15,11,10,13,14,12]\n",
        "\n",
        "\n",
        "for i in range(len(lst)):\n",
        "    # print(\"i---> \",i)\n",
        "    for j in range(i+1, len(lst)):\n",
        "        # print(\"j---> \",j)\n",
        "        if lst[i] >= lst[j]:\n",
        "            # print(lst[i], lst[j])\n",
        "            lst[i], lst[j] = lst[j], lst[i]\n",
        "\n",
        "\n",
        "print(lst)\n"
      ],
      "metadata": {
        "colab": {
          "base_uri": "https://localhost:8080/"
        },
        "id": "x-aI438V7FUo",
        "outputId": "0c83b9e3-afc1-4f0b-ceeb-c124273c21a9"
      },
      "execution_count": null,
      "outputs": [
        {
          "output_type": "stream",
          "name": "stdout",
          "text": [
            "[1, 2, 3, 4, 6, 7, 8, 9, 10, 11, 12, 13, 14, 15]\n"
          ]
        }
      ]
    },
    {
      "cell_type": "code",
      "source": [
        "# 63. Write a Python program to calculate sum of digits of a number.\n",
        "\n",
        "num = input(\"Enter a number: \")\n",
        "sum = 0\n",
        "for i in num:\n",
        "    sum += int(i)\n",
        "print(sum)"
      ],
      "metadata": {
        "id": "Ks2lzFBq7FWx",
        "colab": {
          "base_uri": "https://localhost:8080/"
        },
        "outputId": "bd13f403-639a-4294-9c7f-a5c2e75c1e85"
      },
      "execution_count": null,
      "outputs": [
        {
          "output_type": "stream",
          "name": "stdout",
          "text": [
            "Enter a number: 5245\n",
            "16\n"
          ]
        }
      ]
    },
    {
      "cell_type": "code",
      "source": [
        "# 64. Write a Python program to sort three integers without using conditional statements and loops.\n",
        "\n",
        "n1 = 8\n",
        "n2 = 4\n",
        "n3 = 9\n",
        "\n",
        "max_val = max(n1,n2,n3)\n",
        "min_val = min(n1,n2,n3)\n",
        "mid_val = (n1 + n2 + n3) - min_val - max_val\n",
        "\n",
        "print(min_val, mid_val, max_val)"
      ],
      "metadata": {
        "id": "DO7_HPAk7FY4",
        "colab": {
          "base_uri": "https://localhost:8080/"
        },
        "outputId": "44da4de4-98c9-4e71-b713-5d6fbdc2671c"
      },
      "execution_count": null,
      "outputs": [
        {
          "output_type": "stream",
          "name": "stdout",
          "text": [
            "4 8 9\n"
          ]
        }
      ]
    },
    {
      "cell_type": "code",
      "source": [
        "# 65. Write a Python program to get the details of math module.\n",
        "\n",
        "import math\n",
        "\n",
        "v = dir(math)\n",
        "\n",
        "for i in v:\n",
        "  print(i)"
      ],
      "metadata": {
        "id": "0AjQJg-V7Fad",
        "colab": {
          "base_uri": "https://localhost:8080/"
        },
        "outputId": "01b74f33-681d-40e0-fe55-a6d18d50570d"
      },
      "execution_count": null,
      "outputs": [
        {
          "output_type": "stream",
          "name": "stdout",
          "text": [
            "__doc__\n",
            "__loader__\n",
            "__name__\n",
            "__package__\n",
            "__spec__\n",
            "acos\n",
            "acosh\n",
            "asin\n",
            "asinh\n",
            "atan\n",
            "atan2\n",
            "atanh\n",
            "ceil\n",
            "comb\n",
            "copysign\n",
            "cos\n",
            "cosh\n",
            "degrees\n",
            "dist\n",
            "e\n",
            "erf\n",
            "erfc\n",
            "exp\n",
            "expm1\n",
            "fabs\n",
            "factorial\n",
            "floor\n",
            "fmod\n",
            "frexp\n",
            "fsum\n",
            "gamma\n",
            "gcd\n",
            "hypot\n",
            "inf\n",
            "isclose\n",
            "isfinite\n",
            "isinf\n",
            "isnan\n",
            "isqrt\n",
            "ldexp\n",
            "lgamma\n",
            "log\n",
            "log10\n",
            "log1p\n",
            "log2\n",
            "modf\n",
            "nan\n",
            "perm\n",
            "pi\n",
            "pow\n",
            "prod\n",
            "radians\n",
            "remainder\n",
            "sin\n",
            "sinh\n",
            "sqrt\n",
            "tan\n",
            "tanh\n",
            "tau\n",
            "trunc\n"
          ]
        }
      ]
    },
    {
      "cell_type": "code",
      "source": [
        "# 66. Write a Python program to calculate midpoints of a line. \n",
        "\n",
        "\n",
        "a = float(input(\"Enter start value: \"))\n",
        "b = float(input(\"Enter end value: \"))\n",
        "\n",
        "mid = a + b / 2\n",
        "\n",
        "print(\"midpoint is\", mid)"
      ],
      "metadata": {
        "id": "r8horHa17FcK",
        "colab": {
          "base_uri": "https://localhost:8080/"
        },
        "outputId": "34137244-ba73-4856-c6b0-91a1ae6524b6"
      },
      "execution_count": null,
      "outputs": [
        {
          "output_type": "stream",
          "name": "stdout",
          "text": [
            "Enter start value: 3\n",
            "Enter end value: 99\n",
            "midpoint is 52.5\n"
          ]
        }
      ]
    },
    {
      "cell_type": "code",
      "source": [
        "# 67. Write a Python program to get the size of an object in bytes.\n",
        "\n",
        "import sys\n",
        "\n",
        "name = \"imran\"\n",
        "\n",
        "rollno = 66\n",
        "\n",
        "print(f\" {sys.getsizeof(name)} bytes for {name}\")\n",
        "print(f\" {sys.getsizeof(rollno)} bytes for {rollno}\")\n"
      ],
      "metadata": {
        "colab": {
          "base_uri": "https://localhost:8080/"
        },
        "id": "Wz6-Z9q9Q7y8",
        "outputId": "7b570aff-ea9c-4287-ac8f-f8340b632f40"
      },
      "execution_count": null,
      "outputs": [
        {
          "output_type": "stream",
          "name": "stdout",
          "text": [
            " 54 bytes for imran\n",
            " 28 bytes for 66\n"
          ]
        }
      ]
    },
    {
      "cell_type": "code",
      "source": [
        "# 68. Write a Python program to test whether all numbers of a list is greater than a certain number\n",
        "\n",
        "\n",
        "lst = [5,9,11,66,74,99,124]\n",
        "\n",
        "num1 = 64\n",
        "num2 = 4\n",
        "\n",
        "print(all(i > num2 for i in lst))"
      ],
      "metadata": {
        "colab": {
          "base_uri": "https://localhost:8080/"
        },
        "id": "Op3REz1mWccg",
        "outputId": "de155a2e-2512-4ce9-b4d3-cb2eeb2c0d72"
      },
      "execution_count": null,
      "outputs": [
        {
          "output_type": "stream",
          "name": "stdout",
          "text": [
            "True\n"
          ]
        }
      ]
    },
    {
      "cell_type": "code",
      "source": [
        "# 69. Write a Python program to count the number occurrence of a specific character in a string.\n",
        "\n",
        "val = \"hello my name is imran abdul and i am learning python language\"\n",
        "count_val = input(\"Enter an alphabet to count its oocurance: \")\n",
        "\n",
        "print(count_val, val.count(count_val))"
      ],
      "metadata": {
        "colab": {
          "base_uri": "https://localhost:8080/"
        },
        "id": "qdwNGzOFYEZs",
        "outputId": "c099db66-0b8f-4373-9e0a-40596915cbc9"
      },
      "execution_count": null,
      "outputs": [
        {
          "output_type": "stream",
          "name": "stdout",
          "text": [
            "Enter an alphabet to count its oocurance: l\n",
            "l 5\n"
          ]
        }
      ]
    },
    {
      "cell_type": "code",
      "source": [
        "# 70. Write a Python program to get the ASCII value of a character\n",
        "\n",
        "character = input(\"Enter a character: \")\n",
        "\n",
        "print(ord(character), character)"
      ],
      "metadata": {
        "colab": {
          "base_uri": "https://localhost:8080/"
        },
        "id": "5kPtbX6JYEcH",
        "outputId": "e3a8f5c0-394a-4503-f6ff-84e2c0714edc"
      },
      "execution_count": null,
      "outputs": [
        {
          "output_type": "stream",
          "name": "stdout",
          "text": [
            "Enter a character: a\n",
            "97 a\n"
          ]
        }
      ]
    },
    {
      "cell_type": "code",
      "source": [
        "# 71. Write a Python program to perform an action if a condition is true.\n",
        "# Given a variable name, if the value is 1, display the string \"First day of a Month!\"\n",
        "# and do nothing if the value is not equal.\n",
        "\n",
        "var_name = int(input(\"Enter a month number between 1 to 12: \"))\n",
        "\n",
        "if var_name  == 1:\n",
        "    print(\"First day of a month\")"
      ],
      "metadata": {
        "colab": {
          "base_uri": "https://localhost:8080/"
        },
        "id": "FYNVn5izYEep",
        "outputId": "dc309959-172c-4e2d-8f82-1f3caa78ee73"
      },
      "execution_count": null,
      "outputs": [
        {
          "output_type": "stream",
          "name": "stdout",
          "text": [
            "Enter a month number between 1 to 12: 1\n",
            "First day of a month\n"
          ]
        }
      ]
    },
    {
      "cell_type": "code",
      "source": [
        "# 72. Write a Python program to create a copy of its own source code\n",
        "\n",
        "\n",
        "def file_copy(src, des):\n",
        "\n",
        "    with open(src) as s, open(des) as d:\n",
        "        d.write(s.read())\n",
        "\n",
        "file_copy(\"imran.py\", \"abdul.py\")\n",
        "\n",
        "with open('imran.py', 'r') as filehandle:\n",
        "    for line in filehandle:\n",
        "        print(line, end='')"
      ],
      "metadata": {
        "id": "EXZym-VWYElx"
      },
      "execution_count": null,
      "outputs": []
    },
    {
      "cell_type": "code",
      "source": [
        "# 73.  Write a Python program to swap two variables.\n",
        "\n",
        "# def swap_var(a,b):\n",
        "#     a,b = b,a\n",
        "#     return a,b\n",
        "\n",
        "# swap_var(10,20)\n",
        "\n",
        "def swap_var(a,b):\n",
        "    temp = a\n",
        "    a = b\n",
        "    b = temp\n",
        "    return a,b\n",
        "\n",
        "swap_var(10,20)\n"
      ],
      "metadata": {
        "id": "lbKVfkD2YEoS",
        "colab": {
          "base_uri": "https://localhost:8080/"
        },
        "outputId": "b3766649-c705-4457-a144-fcaa2df75a79"
      },
      "execution_count": null,
      "outputs": [
        {
          "output_type": "execute_result",
          "data": {
            "text/plain": [
              "(20, 10)"
            ]
          },
          "metadata": {},
          "execution_count": 46
        }
      ]
    },
    {
      "cell_type": "code",
      "source": [
        "# 74. Write a Python program to get the Identity, Type, and Value of an object\n",
        "\n",
        "a = [1,2,3]\n",
        "\n",
        "print(a, type(a), id(a))"
      ],
      "metadata": {
        "id": "pBgjHR_YYEqs",
        "colab": {
          "base_uri": "https://localhost:8080/"
        },
        "outputId": "40e36fc9-ffee-4c4b-edb7-d05db81db972"
      },
      "execution_count": null,
      "outputs": [
        {
          "output_type": "stream",
          "name": "stdout",
          "text": [
            "[1, 2, 3] <class 'list'> 140023825472512\n"
          ]
        }
      ]
    },
    {
      "cell_type": "code",
      "source": [
        "# 75. Write a Python program to convert a byte string to a list of integers.\n",
        "\n",
        "name = b'imran'\n",
        "k = list(name)\n",
        "\n",
        "print(k)\n",
        "\n",
        "l=0    \n",
        "for i in k:\n",
        "  l += i\n",
        "print(\"total:\",l)\n"
      ],
      "metadata": {
        "colab": {
          "base_uri": "https://localhost:8080/"
        },
        "id": "uzO7-eCPkzve",
        "outputId": "9e9daaf7-f20c-420b-cc9d-5d6166b6d769"
      },
      "execution_count": null,
      "outputs": [
        {
          "output_type": "stream",
          "name": "stdout",
          "text": [
            "[105, 109, 114, 97, 110]\n",
            "total: 535\n"
          ]
        }
      ]
    },
    {
      "cell_type": "code",
      "source": [
        "# 76. Write a Python program to check whether a string is numeric.\n",
        "\n",
        "# strg = \"is this string numeric\"\n",
        "strg = \"a123\"\n",
        "\n",
        "if strg.isnumeric:\n",
        "    print(True)"
      ],
      "metadata": {
        "colab": {
          "base_uri": "https://localhost:8080/"
        },
        "id": "iUOne08imgnR",
        "outputId": "a9116b3f-ed59-4a2d-f27c-448eb57dbeab"
      },
      "execution_count": null,
      "outputs": [
        {
          "output_type": "stream",
          "name": "stdout",
          "text": [
            "True\n"
          ]
        }
      ]
    },
    {
      "cell_type": "code",
      "source": [
        "# 77. Write a Python program to get the system time.\n",
        "import time\n",
        "# dir(time)\n",
        "print(time.ctime())"
      ],
      "metadata": {
        "colab": {
          "base_uri": "https://localhost:8080/"
        },
        "id": "RoSGmWXEnrMR",
        "outputId": "17bc0451-123e-4b89-e9c2-59961900b249"
      },
      "execution_count": null,
      "outputs": [
        {
          "output_type": "stream",
          "name": "stdout",
          "text": [
            "Mon Dec  5 09:32:50 2022\n"
          ]
        }
      ]
    },
    {
      "cell_type": "code",
      "source": [
        "# 78. Write a Python program to get the name of the host on which the routine is running.\n",
        "\n",
        "import socket\n",
        "host_name = socket.gethostname()\n",
        "print(\"Host name:\", host_name)\n",
        "\n"
      ],
      "metadata": {
        "id": "c8gJLRSfobnn"
      },
      "execution_count": null,
      "outputs": []
    },
    {
      "cell_type": "code",
      "source": [
        "# 79. Write a Python program to access and print a URL's content to the console.\n",
        "\n",
        "from http.client import HTTPConnection\n",
        "\n",
        "conn = HTTPConnection(\"example.com\")\n",
        "\n",
        "conn.request(\"GET\", \"/\")\n",
        "\n",
        "result = conn.getresponse()\n",
        "\n",
        "contents = result.read()\n",
        "\n",
        "print(contents)"
      ],
      "metadata": {
        "colab": {
          "base_uri": "https://localhost:8080/"
        },
        "id": "gip4z1ISobrA",
        "outputId": "91d9c901-f006-40b4-dfd9-dac084522134"
      },
      "execution_count": null,
      "outputs": [
        {
          "output_type": "stream",
          "name": "stdout",
          "text": [
            "b'<!doctype html>\\n<html>\\n<head>\\n    <title>Example Domain</title>\\n\\n    <meta charset=\"utf-8\" />\\n    <meta http-equiv=\"Content-type\" content=\"text/html; charset=utf-8\" />\\n    <meta name=\"viewport\" content=\"width=device-width, initial-scale=1\" />\\n    <style type=\"text/css\">\\n    body {\\n        background-color: #f0f0f2;\\n        margin: 0;\\n        padding: 0;\\n        font-family: -apple-system, system-ui, BlinkMacSystemFont, \"Segoe UI\", \"Open Sans\", \"Helvetica Neue\", Helvetica, Arial, sans-serif;\\n        \\n    }\\n    div {\\n        width: 600px;\\n        margin: 5em auto;\\n        padding: 2em;\\n        background-color: #fdfdff;\\n        border-radius: 0.5em;\\n        box-shadow: 2px 3px 7px 2px rgba(0,0,0,0.02);\\n    }\\n    a:link, a:visited {\\n        color: #38488f;\\n        text-decoration: none;\\n    }\\n    @media (max-width: 700px) {\\n        div {\\n            margin: 0 auto;\\n            width: auto;\\n        }\\n    }\\n    </style>    \\n</head>\\n\\n<body>\\n<div>\\n    <h1>Example Domain</h1>\\n    <p>This domain is for use in illustrative examples in documents. You may use this\\n    domain in literature without prior coordination or asking for permission.</p>\\n    <p><a href=\"https://www.iana.org/domains/example\">More information...</a></p>\\n</div>\\n</body>\\n</html>\\n'\n"
          ]
        }
      ]
    },
    {
      "cell_type": "code",
      "source": [
        "# 80. Write a Python program to check if a number is positive, negative or zero.\n",
        "\n",
        "num = 15\n",
        "\n",
        "if num > 0:\n",
        "    print(\"positive\")\n",
        "elif n < 0:\n",
        "    print(\"negative\")\n",
        "else:\n",
        "    print(\"zero\")"
      ],
      "metadata": {
        "colab": {
          "base_uri": "https://localhost:8080/"
        },
        "id": "XvPwFJYLobtD",
        "outputId": "54c32fb9-add4-4223-caa9-4aba90ca874a"
      },
      "execution_count": null,
      "outputs": [
        {
          "output_type": "stream",
          "name": "stdout",
          "text": [
            "positive\n"
          ]
        }
      ]
    },
    {
      "cell_type": "code",
      "source": [
        "# 81. Write a Python program to get numbers divisible by fifteen from a list using an anonymous function.\n",
        "\n",
        "lst = [15,16,25,30,35,45]\n",
        "\n",
        "# k = lambda x: x/15\n",
        "\n",
        "result = filter(lambda x: x % 15 == 0,lst)\n",
        "\n",
        "print(list(result))"
      ],
      "metadata": {
        "colab": {
          "base_uri": "https://localhost:8080/"
        },
        "id": "tI0Ohyotobu-",
        "outputId": "f7e536cb-e3c2-4a9e-d346-3f6eb8b5342c"
      },
      "execution_count": null,
      "outputs": [
        {
          "output_type": "stream",
          "name": "stdout",
          "text": [
            "[15, 30, 45]\n"
          ]
        }
      ]
    },
    {
      "cell_type": "code",
      "source": [
        "# 82.  Write a Python program to remove the first item from a specified list.\n",
        "\n",
        "lst = [15,16,25,30,35,45]\n",
        "\n",
        "lst.remove(lst[0])\n",
        "\n",
        "lst"
      ],
      "metadata": {
        "colab": {
          "base_uri": "https://localhost:8080/"
        },
        "id": "L_faj3vmobw7",
        "outputId": "41492985-d12f-4069-b012-f12e0962bf73"
      },
      "execution_count": null,
      "outputs": [
        {
          "output_type": "execute_result",
          "data": {
            "text/plain": [
              "[16, 25, 30, 35, 45]"
            ]
          },
          "metadata": {},
          "execution_count": 114
        }
      ]
    },
    {
      "cell_type": "code",
      "source": [
        "# 83. Write a Python program to input a number, if it is not a\n",
        "# number generates an error message. \n",
        "\n",
        "while True:\n",
        "    try:\n",
        "        num = int(input(\"Enter a number: \"))\n",
        "        break\n",
        "    except ValueError:\n",
        "        print(\"This is not a number, Try again!\")"
      ],
      "metadata": {
        "colab": {
          "base_uri": "https://localhost:8080/"
        },
        "id": "d18vNX3-2fEx",
        "outputId": "6f9b6a95-96da-4f99-8968-6ae8ad3bf800"
      },
      "execution_count": null,
      "outputs": [
        {
          "name": "stdout",
          "output_type": "stream",
          "text": [
            "Enter a number: sdfsd\n",
            "This is not a number, Try again!\n",
            "Enter a number: 2\n"
          ]
        }
      ]
    },
    {
      "cell_type": "code",
      "source": [
        "# 84. Write a Python program to filter the positive numbers from a list.\n",
        "\n",
        "lst = [15,16,25,30,35,45, -88, -97, 36, 1, 56, -2, 6, -12, 28, -1, 0]\n",
        "\n",
        "# for i in lst:   # Type 1\n",
        "#     if i > 0:\n",
        "#         print(\"Positive number is\", i)\n",
        "#     else:\n",
        "#         print(\"Negative number is\", i)\n",
        "\n",
        "\n",
        "# result = list(filter(lambda x: x > 0, lst))   # Type 2\n",
        "\n",
        "result = [ i for i in lst if i > 0 ]   # Type 3\n",
        "\n",
        "print(result)"
      ],
      "metadata": {
        "colab": {
          "base_uri": "https://localhost:8080/"
        },
        "id": "PQO50wzO2fHO",
        "outputId": "4a9b9e01-2090-44a6-9385-9c3cffc0ed74"
      },
      "execution_count": null,
      "outputs": [
        {
          "output_type": "stream",
          "name": "stdout",
          "text": [
            "<map object at 0x7f59d66c9a90>\n"
          ]
        }
      ]
    },
    {
      "cell_type": "code",
      "source": [
        "# 85. Write a Python program to compute the product of a list of integers\n",
        "# (without using for loop)\n",
        "# NOTE: use reduce function\n",
        "\n",
        "from functools import reduce\n",
        "lst = [2,3,5,7]\n",
        "\n",
        "result = reduce(lambda x,y: x*y, lst)\n",
        "result"
      ],
      "metadata": {
        "colab": {
          "base_uri": "https://localhost:8080/"
        },
        "id": "TnNdPg5s362K",
        "outputId": "627fbb85-0125-4bc3-9e9c-7f7597b2e859"
      },
      "execution_count": null,
      "outputs": [
        {
          "output_type": "execute_result",
          "data": {
            "text/plain": [
              "210"
            ]
          },
          "metadata": {},
          "execution_count": 142
        }
      ]
    },
    {
      "cell_type": "code",
      "source": [
        "# 86. Write a Python program to prove that two string variables of same value point same memory location\n",
        "\n",
        "a = \"imran\"\n",
        "b = \"imran\"\n",
        "\n",
        "\n",
        "print(id(a) == id(b))"
      ],
      "metadata": {
        "colab": {
          "base_uri": "https://localhost:8080/"
        },
        "id": "JXg9x0A42fLm",
        "outputId": "3174f2e3-794a-4caf-bc18-2a21da86b755"
      },
      "execution_count": null,
      "outputs": [
        {
          "output_type": "stream",
          "name": "stdout",
          "text": [
            "True\n"
          ]
        }
      ]
    },
    {
      "cell_type": "code",
      "source": [
        "# 87. Write a Python program to create a bytearray from a list.\n",
        "\n",
        "lst = [1,2,3,4,5,9,6,7,8,9]\n",
        "\n",
        "print(bytearray(lst))"
      ],
      "metadata": {
        "colab": {
          "base_uri": "https://localhost:8080/"
        },
        "id": "QFw5vEjP2fN6",
        "outputId": "b85bb7b4-af6b-4f3c-aea9-45e4cfe1b45f"
      },
      "execution_count": null,
      "outputs": [
        {
          "output_type": "stream",
          "name": "stdout",
          "text": [
            "bytearray(b'\\x01\\x02\\x03\\x04\\x05\\t\\x06\\x07\\x08\\t')\n"
          ]
        }
      ]
    },
    {
      "cell_type": "code",
      "source": [
        "# 88. Write a Python program to round a floating-point number to specified number decimal places\n",
        "\n",
        "val = 1.03574989489988984\n",
        "\n",
        "print(\"val of k with 4 decimal point %.4f\" %val)"
      ],
      "metadata": {
        "colab": {
          "base_uri": "https://localhost:8080/"
        },
        "id": "L9P5ujM3KTdw",
        "outputId": "f57c4fb5-278b-4bf1-8005-10bb2ef46cb8"
      },
      "execution_count": null,
      "outputs": [
        {
          "output_type": "stream",
          "name": "stdout",
          "text": [
            "val of k with 4 decimal point 1.0357\n"
          ]
        }
      ]
    },
    {
      "cell_type": "code",
      "source": [
        "# 89. Write a Python program to format a specified string limiting the length of a string.\n",
        "\n",
        "val = \"imran abdul\"\n",
        "\n",
        "print(\"%.7s\" %val)"
      ],
      "metadata": {
        "colab": {
          "base_uri": "https://localhost:8080/"
        },
        "id": "zVCXYDz4KTip",
        "outputId": "7ebec003-caf8-40a2-cc10-a0fe10d2e78c"
      },
      "execution_count": null,
      "outputs": [
        {
          "output_type": "stream",
          "name": "stdout",
          "text": [
            "imran a\n"
          ]
        }
      ]
    },
    {
      "cell_type": "code",
      "source": [
        "# 90. Write a Python program to determine whether variable is defined or not\n",
        "\n",
        "try:\n",
        "    print(P)\n",
        "except NameError:\n",
        "    print(\"P not defined\")\n"
      ],
      "metadata": {
        "colab": {
          "base_uri": "https://localhost:8080/"
        },
        "id": "aBudzTsaKTla",
        "outputId": "ce18e152-69d2-4dd4-f92e-701f2335e8b5"
      },
      "execution_count": null,
      "outputs": [
        {
          "output_type": "stream",
          "name": "stdout",
          "text": [
            "P not defined\n"
          ]
        }
      ]
    },
    {
      "cell_type": "code",
      "source": [
        "# 91. Write a Python program to empty a variable without destroying it\n",
        "\n",
        "# Sample data: n=20\n",
        "# d = {\"x\":200}\n",
        "# Expected Output : 0\n",
        "# {}\n",
        "\n",
        "n=20\n",
        "d = {\"x\":200}\n",
        "i = \"imran\"\n",
        "c = [\"my\", \"name\"]\n",
        "\n",
        "print(type(n)())\n",
        "print(type(d)())\n",
        "print(type(i)())\n",
        "print(type(c)())"
      ],
      "metadata": {
        "id": "sygjJ15PKTnl",
        "colab": {
          "base_uri": "https://localhost:8080/"
        },
        "outputId": "df28b45e-5487-423f-9bee-5278dbac22f2"
      },
      "execution_count": 11,
      "outputs": [
        {
          "output_type": "stream",
          "name": "stdout",
          "text": [
            "0\n",
            "{}\n",
            "\n",
            "[]\n"
          ]
        }
      ]
    },
    {
      "cell_type": "code",
      "source": [
        "# 92. Write a Python program to check whether multiple variables have the same value\n",
        "\n",
        "a = 10\n",
        "b = \"hi\"\n",
        "c, d, e = 10, \"hi\", 16\n",
        "\n",
        "print(a is c or b is d)"
      ],
      "metadata": {
        "id": "MYY8JJ4bKTp2",
        "colab": {
          "base_uri": "https://localhost:8080/"
        },
        "outputId": "6142799b-2f8f-4b01-e9dd-ecadcc31b3b9"
      },
      "execution_count": 16,
      "outputs": [
        {
          "output_type": "stream",
          "name": "stdout",
          "text": [
            "True\n"
          ]
        }
      ]
    },
    {
      "cell_type": "code",
      "source": [
        "# 93.Write a Python program to sum of all counts in a collections.\n",
        "\n",
        "import collections\n",
        "\n",
        "num = [1,3,4,8,9,7,2,5,6,2,15,3,9,7,5,1,8,3,4,9,6]\n",
        "num.sort()\n",
        "\n",
        "print(collections.Counter(num))\n",
        "print(collections.Counter(num).values())\n",
        "print(sum(collections.Counter(num).values()))\n"
      ],
      "metadata": {
        "id": "zRypKlyvKTsc",
        "colab": {
          "base_uri": "https://localhost:8080/"
        },
        "outputId": "c8351c03-a22f-4578-8fde-0c3c66bf56df"
      },
      "execution_count": 29,
      "outputs": [
        {
          "output_type": "stream",
          "name": "stdout",
          "text": [
            "Counter({3: 3, 9: 3, 1: 2, 2: 2, 4: 2, 5: 2, 6: 2, 7: 2, 8: 2, 15: 1})\n",
            "dict_values([2, 2, 3, 2, 2, 2, 2, 2, 3, 1])\n",
            "21\n",
            "ChainMap(20)\n"
          ]
        }
      ]
    },
    {
      "cell_type": "code",
      "source": [
        "# 94. Write a Python program to check whether lowercase letters exist in a string.\n",
        "\n",
        "name = \"Imran Abdul\"\n",
        "\n",
        "# z = list(map(lambda x: x.islower(), name))\n",
        "\n",
        "z = [ i for i in name if i.islower()]\n",
        "\n",
        "print(any(z))"
      ],
      "metadata": {
        "colab": {
          "base_uri": "https://localhost:8080/"
        },
        "id": "d_MiZQbfU_lU",
        "outputId": "f8c012af-d9de-4015-916a-fc7910495655"
      },
      "execution_count": 33,
      "outputs": [
        {
          "output_type": "stream",
          "name": "stdout",
          "text": [
            "True\n"
          ]
        }
      ]
    },
    {
      "cell_type": "code",
      "source": [
        "# 95. Write a Python program to split a variable length string into variables\n",
        "\n",
        "a = \"imran abdul is my name\"\n",
        "\n",
        "k = str(len(a))\n",
        "\n",
        "print(k)\n",
        "type(k)"
      ],
      "metadata": {
        "colab": {
          "base_uri": "https://localhost:8080/"
        },
        "id": "AzXpfeA8U_oR",
        "outputId": "0b895d29-abb6-4faa-a8cf-588416895f82"
      },
      "execution_count": 37,
      "outputs": [
        {
          "output_type": "stream",
          "name": "stdout",
          "text": [
            "22\n"
          ]
        },
        {
          "output_type": "execute_result",
          "data": {
            "text/plain": [
              "str"
            ]
          },
          "metadata": {},
          "execution_count": 37
        }
      ]
    },
    {
      "cell_type": "code",
      "source": [
        "# 96. Write a Python program to take two user input integers in a single line\n",
        "\n",
        "# x, y = map(int, input().split(\",\"))\n",
        "\n",
        "\n",
        "print(x,y)"
      ],
      "metadata": {
        "colab": {
          "base_uri": "https://localhost:8080/"
        },
        "id": "Fx_XkGm3U_rN",
        "outputId": "5298792e-5ba2-46ba-9026-b01bd3175873"
      },
      "execution_count": 48,
      "outputs": [
        {
          "output_type": "stream",
          "name": "stdout",
          "text": [
            "12,3\n",
            "12 3\n"
          ]
        }
      ]
    },
    {
      "cell_type": "code",
      "source": [
        "# 97. Write a Python program to extract single key-value pair of a dictionary in variables.\n",
        "\n",
        "data = { \"imran\": 23}\n",
        "\n",
        "(name, rollno), = data.items()\n",
        "\n",
        "print(name)\n",
        "rollno"
      ],
      "metadata": {
        "colab": {
          "base_uri": "https://localhost:8080/"
        },
        "id": "XISRh1TZU_uK",
        "outputId": "3a0c5fc1-7e6f-4f3f-b101-251f7766ab81"
      },
      "execution_count": 69,
      "outputs": [
        {
          "output_type": "stream",
          "name": "stdout",
          "text": [
            "imran\n"
          ]
        },
        {
          "output_type": "execute_result",
          "data": {
            "text/plain": [
              "23"
            ]
          },
          "metadata": {},
          "execution_count": 69
        }
      ]
    },
    {
      "cell_type": "code",
      "source": [
        "# 98.Write a Python program to convert true to 1 and false to 0.\n",
        "\n",
        "print(int(True))\n",
        "print(int(False))"
      ],
      "metadata": {
        "colab": {
          "base_uri": "https://localhost:8080/"
        },
        "id": "1vp-VM3kU_wf",
        "outputId": "89651082-0744-4f04-ed8b-bf8541a253ba"
      },
      "execution_count": 71,
      "outputs": [
        {
          "output_type": "stream",
          "name": "stdout",
          "text": [
            "1\n",
            "0\n"
          ]
        }
      ]
    },
    {
      "cell_type": "code",
      "source": [
        "# 99. Write a Python function to find the maximum and minimum numbers from a sequence of numbers\n",
        "# Note: Do not use built-in functions.\n",
        "\n",
        "inpt = [10,6,3,5,66,9,15,9,7,63,4,3,8,1,5,6]\n",
        "\n",
        "max = inpt[0]\n",
        "min = inpt[0]\n",
        "\n",
        "for i in inpt:\n",
        "    if i > max:\n",
        "        max = i\n",
        "\n",
        "    if i < min:\n",
        "        min = i\n",
        "\n",
        "print(max)\n",
        "print(min)"
      ],
      "metadata": {
        "colab": {
          "base_uri": "https://localhost:8080/"
        },
        "id": "cVZ2BCXYU_zM",
        "outputId": "147dfd36-0b65-416a-d34f-d17c45450ef3"
      },
      "execution_count": 77,
      "outputs": [
        {
          "output_type": "stream",
          "name": "stdout",
          "text": [
            "66\n",
            "1\n"
          ]
        }
      ]
    },
    {
      "cell_type": "code",
      "source": [
        "# 100. Write a Python function to check whether a number is divisible by another number.\n",
        "# Accept two integers values form the user\n",
        "\n",
        "def divi():\n",
        "    a = int(input(\"Enter first value: \"))\n",
        "    b = int(input(\"Enter second value: \"))\n",
        "\n",
        "    if a % b == 0:\n",
        "        print(\"divisible\")\n",
        "    else:\n",
        "        print(\"not divisible\")\n",
        "\n",
        "divi()"
      ],
      "metadata": {
        "colab": {
          "base_uri": "https://localhost:8080/"
        },
        "id": "ZfiVygo_U_2E",
        "outputId": "348043b2-733f-4f3d-bcef-2608b6657d9c"
      },
      "execution_count": 79,
      "outputs": [
        {
          "output_type": "stream",
          "name": "stdout",
          "text": [
            "Enter first value: 23\n",
            "Enter second value: 22\n",
            "not divisible\n"
          ]
        }
      ]
    },
    {
      "cell_type": "code",
      "source": [
        "# 101.  Write a Python function that takes a positive integer\n",
        "# and returns the sum of the cube of all the positive integers smaller\n",
        "# than the specified number\n",
        "\n",
        "def sum_ofcube(a):\n",
        "\n",
        "    cube = 0\n",
        "    while a > 0:\n",
        "        cube += a ** 3\n",
        "        a -= 1\n",
        "    return cube\n",
        "\n",
        "\n",
        "sum_ofcube(7)\n",
        "        "
      ],
      "metadata": {
        "colab": {
          "base_uri": "https://localhost:8080/"
        },
        "id": "kp-TY1wCru7S",
        "outputId": "28dedf9b-ce99-4a5e-b556-19735501f7e9"
      },
      "execution_count": 83,
      "outputs": [
        {
          "output_type": "execute_result",
          "data": {
            "text/plain": [
              "784"
            ]
          },
          "metadata": {},
          "execution_count": 83
        }
      ]
    },
    {
      "cell_type": "code",
      "source": [
        "# # 102. Write a Python function to check whether a distinct pair of numbers whose\n",
        "# # product is odd present in a sequence of integer values.\n",
        "\n",
        "# def pair_ofnums(a,b):\n",
        "#     c = a * b\n",
        "\n",
        "#     if c % 2 != 0:\n",
        "#         if c in lst:\n",
        "#             return True\n",
        "#     return False\n",
        "\n",
        "# lst = [256,142,132,157,120,15,148,236,25,103,38,97,]\n",
        "\n",
        "# pair_ofnums(2,6)"
      ],
      "metadata": {
        "colab": {
          "base_uri": "https://localhost:8080/"
        },
        "id": "-xsP4UtDU_5K",
        "outputId": "2e7db9d5-79f7-4839-c57c-e7bf2e355d36"
      },
      "execution_count": 85,
      "outputs": [
        {
          "output_type": "execute_result",
          "data": {
            "text/plain": [
              "False"
            ]
          },
          "metadata": {},
          "execution_count": 85
        }
      ]
    }
  ]
}